{
 "cells": [
  {
   "cell_type": "markdown",
   "id": "e1cf3dd3",
   "metadata": {},
   "source": [
    "### 1. Write a Python program to find sum of elements in list?"
   ]
  },
  {
   "cell_type": "code",
   "execution_count": 2,
   "id": "0d9d3a2a",
   "metadata": {},
   "outputs": [
    {
     "name": "stdout",
     "output_type": "stream",
     "text": [
      "the sum of the list is :  36\n"
     ]
    }
   ],
   "source": [
    "lis = [1,2,3,4,5,6,7,8]\n",
    "\n",
    "summ = 0 \n",
    "for i in range(len(lis)):\n",
    "    summ = summ + lis[i]\n",
    "    \n",
    "print(\"the sum of the list is : \",summ)"
   ]
  },
  {
   "cell_type": "markdown",
   "id": "4d03d5df",
   "metadata": {},
   "source": [
    "### 2. Write a Python program to Multiply all numbers in the list?"
   ]
  },
  {
   "cell_type": "code",
   "execution_count": 3,
   "id": "1c5760ae",
   "metadata": {},
   "outputs": [
    {
     "name": "stdout",
     "output_type": "stream",
     "text": [
      "the mlitiply of the list is :  40320\n"
     ]
    }
   ],
   "source": [
    "lis = [1,2,3,4,5,6,7,8]\n",
    "\n",
    "mult = 1 \n",
    "for i in range(len(lis)):\n",
    "    mult = mult * lis[i]\n",
    "    \n",
    "print(\"the mlitiply of the list is : \",mult)"
   ]
  },
  {
   "cell_type": "markdown",
   "id": "eac9c9f4",
   "metadata": {},
   "source": [
    "### 3. Write a Python program to find smallest number in a list?"
   ]
  },
  {
   "cell_type": "code",
   "execution_count": 4,
   "id": "31424a2e",
   "metadata": {},
   "outputs": [
    {
     "name": "stdout",
     "output_type": "stream",
     "text": [
      "the smallest number in the list is  -1\n"
     ]
    }
   ],
   "source": [
    "lis = [1,2,44,975,22,333,444456,-1]\n",
    "\n",
    "lis.sort()\n",
    "\n",
    "print(\"the smallest number in the list is \",lis[0])\n"
   ]
  },
  {
   "cell_type": "markdown",
   "id": "c879700e",
   "metadata": {},
   "source": [
    "### 4. Write a Python program to find largest number in a list?"
   ]
  },
  {
   "cell_type": "code",
   "execution_count": 5,
   "id": "7a32a0cd",
   "metadata": {},
   "outputs": [
    {
     "name": "stdout",
     "output_type": "stream",
     "text": [
      "the largest number in the list is  444456\n"
     ]
    }
   ],
   "source": [
    "lis = [1,2,44,975,22,333,444456,-1]\n",
    "\n",
    "lis.sort()\n",
    "\n",
    "print(\"the largest number in the list is \",lis[-1])\n"
   ]
  },
  {
   "cell_type": "markdown",
   "id": "b23ee2a7",
   "metadata": {},
   "source": [
    "### 5. Write a Python program to find second largest number in a list?"
   ]
  },
  {
   "cell_type": "code",
   "execution_count": 6,
   "id": "205635be",
   "metadata": {},
   "outputs": [
    {
     "name": "stdout",
     "output_type": "stream",
     "text": [
      "the second largest number in the list is  975\n"
     ]
    }
   ],
   "source": [
    "lis = [1,2,44,975,22,333,444456,-1]\n",
    "\n",
    "lis.sort()\n",
    "\n",
    "print(\"the second largest number in the list is \",lis[-2])"
   ]
  },
  {
   "cell_type": "markdown",
   "id": "d7c6e95b",
   "metadata": {},
   "source": [
    "### 6. Write a Python program to find N largest elements from a list?"
   ]
  },
  {
   "cell_type": "code",
   "execution_count": 8,
   "id": "36ae367c",
   "metadata": {},
   "outputs": [
    {
     "name": "stdout",
     "output_type": "stream",
     "text": [
      "Enter the n number : 3\n",
      "the 1 largest number in the list is 444456\n",
      "the 2 largest number in the list is 975\n",
      "the 3 largest number in the list is 333\n"
     ]
    }
   ],
   "source": [
    "number_largest = int(input(\"Enter the n number : \"))\n",
    "\n",
    "lis = [1,2,44,975,22,333,444456,-1]\n",
    "lis.sort()\n",
    "\n",
    "counter = -1\n",
    "for i in range(number_largest):\n",
    "    print(\"the {} largest number in the list is {}\".format(i+1,lis[counter]))\n",
    "    counter = counter -1 \n",
    "    \n",
    "        \n",
    "        \n",
    "    \n"
   ]
  },
  {
   "cell_type": "markdown",
   "id": "e4c37aa4",
   "metadata": {},
   "source": [
    "### 7. Write a Python program to print even numbers in a list?"
   ]
  },
  {
   "cell_type": "code",
   "execution_count": 11,
   "id": "e8953fa8",
   "metadata": {},
   "outputs": [
    {
     "name": "stdout",
     "output_type": "stream",
     "text": [
      "[2, 4, 6, 6, 88]\n"
     ]
    }
   ],
   "source": [
    "lis = [1,3,6,9,88,55,47,2,4,6]\n",
    "lis_even = [lis[i] for i in range(len(lis)) if lis[i] % 2 == 0]\n",
    "\n",
    "lis_even.sort()\n",
    "print(lis_even)"
   ]
  },
  {
   "cell_type": "markdown",
   "id": "023decfb",
   "metadata": {},
   "source": [
    "### 8. Write a Python program to print odd numbers in a List?"
   ]
  },
  {
   "cell_type": "code",
   "execution_count": 12,
   "id": "abf94d98",
   "metadata": {},
   "outputs": [
    {
     "name": "stdout",
     "output_type": "stream",
     "text": [
      "[1, 3, 7, 9, 11, 13, 47, 55]\n"
     ]
    }
   ],
   "source": [
    "lis = [1,3,6,9,88,55,47,11,13,7]\n",
    "lis_even = [lis[i] for i in range(len(lis)) if lis[i] % 2 != 0]\n",
    "\n",
    "lis_even.sort()\n",
    "print(lis_even)"
   ]
  },
  {
   "cell_type": "markdown",
   "id": "fe14a552",
   "metadata": {},
   "source": [
    "### 9. Write a Python program to Remove empty List from List?"
   ]
  },
  {
   "cell_type": "code",
   "execution_count": 6,
   "id": "db8eb59b",
   "metadata": {},
   "outputs": [
    {
     "name": "stdout",
     "output_type": "stream",
     "text": [
      "list before remove empty list   [1, 3, 6, 9, 88, 55, 47, 11, 13, 7, [], [], []]\n",
      "list after remove empty list   [1, 3, 6, 9, 88, 55, 47, 11, 13, 7]\n"
     ]
    }
   ],
   "source": [
    "lis = [1,3,6,9,88,55,47,11,13,7 , [],[],[]]\n",
    "\n",
    "new_list = [value for value in lis if value != []]\n",
    "\n",
    "\n",
    "print(\"list before remove empty list  \",lis)\n",
    "print(\"list after remove empty list  \",new_list)"
   ]
  },
  {
   "cell_type": "markdown",
   "id": "f29a69c8",
   "metadata": {},
   "source": [
    "### 10. Write a Python program to Cloning or Copying a list?"
   ]
  },
  {
   "cell_type": "code",
   "execution_count": 7,
   "id": "2b01c596",
   "metadata": {},
   "outputs": [
    {
     "name": "stdout",
     "output_type": "stream",
     "text": [
      "[1, 3, 6, 9, 88, 55, 47, 11, 13, 7]\n"
     ]
    }
   ],
   "source": [
    "lis = [1,3,6,9,88,55,47,11,13,7]\n",
    "\n",
    "new_list = [value for value in lis]\n",
    "\n",
    "print(new_list)"
   ]
  },
  {
   "cell_type": "markdown",
   "id": "020eca29",
   "metadata": {},
   "source": [
    "### 11. Write a Python program to Count occurrences of an element in a list?"
   ]
  },
  {
   "cell_type": "code",
   "execution_count": 10,
   "id": "ddcc9f8b",
   "metadata": {},
   "outputs": [
    {
     "name": "stdout",
     "output_type": "stream",
     "text": [
      "[1, 2, 6, 4, 9, 55, 45, 77, 7, 7, 777, 777, 7, 23, 15, 765]\n",
      "Enter the charater that you want to count in list above : 7\n",
      "the number 7 is apear in list 3 times \n"
     ]
    }
   ],
   "source": [
    "lis = [1,2,6,4,9,55,45,77,7,7,777,777,7,23,15,765]\n",
    "print(lis)\n",
    "\n",
    "num = int(input(\"Enter the charater that you want to count in list above : \"))\n",
    "\n",
    "count = 0 \n",
    "\n",
    "for i in range(len(lis)):\n",
    "    if lis[i] == num :\n",
    "        count = count + 1\n",
    "        \n",
    "print(\"the number {} is apear in list {} times \".format(num,count))"
   ]
  }
 ],
 "metadata": {
  "kernelspec": {
   "display_name": "Python 3",
   "language": "python",
   "name": "python3"
  },
  "language_info": {
   "codemirror_mode": {
    "name": "ipython",
    "version": 3
   },
   "file_extension": ".py",
   "mimetype": "text/x-python",
   "name": "python",
   "nbconvert_exporter": "python",
   "pygments_lexer": "ipython3",
   "version": "3.8.8"
  },
  "varInspector": {
   "cols": {
    "lenName": 16,
    "lenType": 16,
    "lenVar": 40
   },
   "kernels_config": {
    "python": {
     "delete_cmd_postfix": "",
     "delete_cmd_prefix": "del ",
     "library": "var_list.py",
     "varRefreshCmd": "print(var_dic_list())"
    },
    "r": {
     "delete_cmd_postfix": ") ",
     "delete_cmd_prefix": "rm(",
     "library": "var_list.r",
     "varRefreshCmd": "cat(var_dic_list()) "
    }
   },
   "types_to_exclude": [
    "module",
    "function",
    "builtin_function_or_method",
    "instance",
    "_Feature"
   ],
   "window_display": false
  }
 },
 "nbformat": 4,
 "nbformat_minor": 5
}
