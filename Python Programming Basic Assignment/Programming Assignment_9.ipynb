{
 "cells": [
  {
   "cell_type": "markdown",
   "id": "ed13bd2c",
   "metadata": {},
   "source": [
    "### 1. Write a Python program to check if the given number is a Disarium Number?"
   ]
  },
  {
   "cell_type": "code",
   "execution_count": 9,
   "id": "3bcddb37",
   "metadata": {},
   "outputs": [
    {
     "name": "stdout",
     "output_type": "stream",
     "text": [
      "Enter the number : 175\n",
      "The number 175 is Disarium \n"
     ]
    }
   ],
   "source": [
    "number = input(\"Enter the number : \")\n",
    "\n",
    "lis = []\n",
    "summ=0\n",
    "counter = 1\n",
    "for i in range(len(number)):\n",
    "    lis.append(int(number[i]))\n",
    "    summ = summ + lis[i]**counter\n",
    "    counter = counter+1\n",
    "\n",
    "\n",
    "if int(number) == summ:\n",
    "    print(\"The number {} is Disarium \".format(int(number)))\n",
    "else:\n",
    "    print(\"The number {} is not Disarium \".format(int(number)))\n",
    "    "
   ]
  },
  {
   "cell_type": "markdown",
   "id": "db8b3cc9",
   "metadata": {},
   "source": [
    "### 2. Write a Python program to print all disarium numbers between 1 to 100?"
   ]
  },
  {
   "cell_type": "code",
   "execution_count": 9,
   "id": "4ffcfaea",
   "metadata": {},
   "outputs": [
    {
     "name": "stdout",
     "output_type": "stream",
     "text": [
      "the number 1 is disarium \n",
      "the number 2 is disarium \n",
      "the number 3 is disarium \n",
      "the number 4 is disarium \n",
      "the number 5 is disarium \n",
      "the number 6 is disarium \n",
      "the number 7 is disarium \n",
      "the number 8 is disarium \n",
      "the number 9 is disarium \n",
      "the number 89 is disarium \n"
     ]
    }
   ],
   "source": [
    "for i in range(1,101):\n",
    "    rem = summ = 0; \n",
    "    num = i\n",
    "    len_ = len(str(i))\n",
    "    while(num > 0):\n",
    "        rem = num%10;\n",
    "        summ = summ + (rem**len_);  \n",
    "        num = num//10;  \n",
    "        len_ = len_ - 1;  \n",
    "    if summ == i :\n",
    "        print(\"the number {} is disarium \".format(i))"
   ]
  },
  {
   "cell_type": "markdown",
   "id": "dfe03c36",
   "metadata": {},
   "source": [
    "### 3. Write a Python program to check if the given number is Happy Number?"
   ]
  },
  {
   "cell_type": "code",
   "execution_count": 8,
   "id": "7d503392",
   "metadata": {},
   "outputs": [
    {
     "name": "stdout",
     "output_type": "stream",
     "text": [
      "Enter the number : 82\n",
      "the number 82 is happy \n"
     ]
    }
   ],
   "source": [
    "input_ = int(input(\"Enter the number : \"))\n",
    "\n",
    "def SumOfDigit(n):\n",
    "    length = len(str(n))\n",
    "    str_n = str(n)\n",
    "    summ = 0 \n",
    "    for i in range(length):\n",
    "        summ = summ + int(str_n[i])**2 \n",
    "    return summ\n",
    "\n",
    "visit = [input_]\n",
    "x = SumOfDigit(input_)\n",
    "while x not in visit :\n",
    "    visit.append(x)\n",
    "    x = SumOfDigit(x)\n",
    "    if x == 1 :\n",
    "        print(\"the number {} is happy \".format(input_))\n",
    "        break \n",
    "else:\n",
    "    print(\"the number {} is not happy \".format(input_))\n"
   ]
  },
  {
   "cell_type": "markdown",
   "id": "fc8ee206",
   "metadata": {},
   "source": [
    "### 4. Write a Python program to print all happy numbers between 1 and 100?"
   ]
  },
  {
   "cell_type": "code",
   "execution_count": 22,
   "id": "33bf2496",
   "metadata": {},
   "outputs": [
    {
     "name": "stdout",
     "output_type": "stream",
     "text": [
      "1\n",
      "7\n",
      "10\n",
      "13\n",
      "19\n",
      "23\n",
      "28\n",
      "31\n",
      "32\n",
      "44\n",
      "49\n",
      "68\n",
      "70\n",
      "79\n",
      "82\n",
      "86\n",
      "91\n",
      "94\n",
      "97\n",
      "100\n"
     ]
    }
   ],
   "source": [
    "def SumOfDigit(n):\n",
    "    length = len(str(n))\n",
    "    str_n = str(n)\n",
    "    summ = 0 \n",
    "    for i in range(length):\n",
    "        summ = summ + int(str_n[i])**2 \n",
    "    return summ\n",
    "\n",
    "\n",
    "for i in range(1, 101):\n",
    "    my_result = i\n",
    "    while(my_result != 1 and my_result != 4):\n",
    "        my_result = SumOfDigit(my_result)\n",
    "    if(my_result == 1):\n",
    "        print(i)"
   ]
  },
  {
   "cell_type": "markdown",
   "id": "a4904e75",
   "metadata": {},
   "source": [
    "### 5. Write a Python program to determine whether the given number is a Harshad Number?"
   ]
  },
  {
   "cell_type": "code",
   "execution_count": 15,
   "id": "14d0dbcf",
   "metadata": {},
   "outputs": [
    {
     "name": "stdout",
     "output_type": "stream",
     "text": [
      "Enter the number 15\n",
      "the number 15 is not Harshad Number \n"
     ]
    }
   ],
   "source": [
    "input_ = int(input(\"Enter the number \"))\n",
    "\n",
    "length = len(str(input_))\n",
    "\n",
    "if input_ % length == 0 :\n",
    "    print(\"the number {} is Harshad Number \".format(input_))\n",
    "else:\n",
    "    print(\"the number {} is not Harshad Number \".format(input_))\n",
    "    "
   ]
  },
  {
   "cell_type": "markdown",
   "id": "09e8a3d8",
   "metadata": {},
   "source": [
    "### 6. Write a Python program to print all pronic numbers between 1 and 100?"
   ]
  },
  {
   "cell_type": "code",
   "execution_count": 18,
   "id": "a5106f4f",
   "metadata": {},
   "outputs": [
    {
     "name": "stdout",
     "output_type": "stream",
     "text": [
      "pronic  2\n",
      "pronic  6\n",
      "pronic  12\n",
      "pronic  20\n",
      "pronic  30\n",
      "pronic  42\n",
      "pronic  56\n",
      "pronic  72\n",
      "pronic  90\n"
     ]
    }
   ],
   "source": [
    "def pronic (n):\n",
    "    for i in range(n):\n",
    "        if (i*(i+1) == n):\n",
    "            print(\"pronic \",n)\n",
    "            \n",
    "for i in range(1,101):\n",
    "    pronic(i)\n",
    "    "
   ]
  }
 ],
 "metadata": {
  "kernelspec": {
   "display_name": "Python 3",
   "language": "python",
   "name": "python3"
  },
  "language_info": {
   "codemirror_mode": {
    "name": "ipython",
    "version": 3
   },
   "file_extension": ".py",
   "mimetype": "text/x-python",
   "name": "python",
   "nbconvert_exporter": "python",
   "pygments_lexer": "ipython3",
   "version": "3.8.8"
  },
  "varInspector": {
   "cols": {
    "lenName": 16,
    "lenType": 16,
    "lenVar": 40
   },
   "kernels_config": {
    "python": {
     "delete_cmd_postfix": "",
     "delete_cmd_prefix": "del ",
     "library": "var_list.py",
     "varRefreshCmd": "print(var_dic_list())"
    },
    "r": {
     "delete_cmd_postfix": ") ",
     "delete_cmd_prefix": "rm(",
     "library": "var_list.r",
     "varRefreshCmd": "cat(var_dic_list()) "
    }
   },
   "types_to_exclude": [
    "module",
    "function",
    "builtin_function_or_method",
    "instance",
    "_Feature"
   ],
   "window_display": false
  }
 },
 "nbformat": 4,
 "nbformat_minor": 5
}
