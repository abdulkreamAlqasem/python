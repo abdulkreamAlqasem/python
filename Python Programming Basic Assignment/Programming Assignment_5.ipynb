{
 "cells": [
  {
   "cell_type": "markdown",
   "id": "52c93d7d",
   "metadata": {},
   "source": [
    "### 1. Write a Python Program to Find LCM?"
   ]
  },
  {
   "cell_type": "code",
   "execution_count": 32,
   "id": "efc5c0df",
   "metadata": {},
   "outputs": [
    {
     "name": "stdout",
     "output_type": "stream",
     "text": [
      "Enter the number 1 : 50\n",
      "Enter the number 2 : 100\n",
      "the number 100 in lis1 == the number 100 in lis2 and it the first equal number apper so the 100 is the LCM\n"
     ]
    }
   ],
   "source": [
    "num1 = int(input(\"Enter the number 1 : \"))\n",
    "num2 = int(input(\"Enter the number 2 : \"))\n",
    "\n",
    "lis1 = []\n",
    "lis2 = []\n",
    "\n",
    "for i in range(1,50):\n",
    "    lis1.append(num1*i)\n",
    "    lis2.append(num2*i)\n",
    "\n",
    "   \n",
    "isthere = False\n",
    "for i in range(len(lis1)):\n",
    "    for j in range(len(lis2)):\n",
    "        if lis1[i] == lis2[j]:\n",
    "            print(\"the number {} in lis1 == the number {} in lis2 and it the first equal number apper so the {} is the LCM\".format(lis1[i],lis2[j],lis1[i]))\n",
    "            isthere=True\n",
    "            break\n",
    "    if isthere:\n",
    "        break"
   ]
  },
  {
   "cell_type": "markdown",
   "id": "96d7da31",
   "metadata": {},
   "source": [
    "### 2. Write a Python Program to Find HCF?"
   ]
  },
  {
   "cell_type": "code",
   "execution_count": 31,
   "id": "cb61e324",
   "metadata": {},
   "outputs": [
    {
     "name": "stdout",
     "output_type": "stream",
     "text": [
      "Enter the number 1 : 81\n",
      "Enter the number 2 : 153\n",
      "the number 81 and 153 has gcd 9\n"
     ]
    }
   ],
   "source": [
    "num1 = int(input(\"Enter the number 1 : \"))\n",
    "num2 = int(input(\"Enter the number 2 : \"))\n",
    "\n",
    "i = 1 \n",
    "gcd = 0 \n",
    "while (i <= num1) and (i <= num2) :\n",
    "    if num1%i == 0 and num2%i == 0 :\n",
    "        gcd = i\n",
    "    i +=1\n",
    "if gcd != 0 :\n",
    "    print(\"the number {} and {} has gcd {}\".format(num1,num2,gcd))\n",
    "else :\n",
    "    print(\"the number {} and {} has no gcd \".format(num1,num2))"
   ]
  },
  {
   "cell_type": "markdown",
   "id": "cd691413",
   "metadata": {},
   "source": [
    "### 3. Write a Python Program to Convert Decimal to Binary, Octal and Hexadecimal?"
   ]
  },
  {
   "cell_type": "code",
   "execution_count": 30,
   "id": "cbfa984f",
   "metadata": {},
   "outputs": [
    {
     "name": "stdout",
     "output_type": "stream",
     "text": [
      "enter the decimal number to convert it to binary : 23\n",
      "------------------------------------------------------------------------------\n",
      "the Decimal number 23 to Binary number are 10111 \n",
      "------------------------------------------------------------------------------\n",
      "the Decimal number 23 to Octal number are 0o27 \n",
      "------------------------------------------------------------------------------\n",
      "the Decimal number 23 to Octal number are 0x17 \n"
     ]
    }
   ],
   "source": [
    "\n",
    "number = int(input(\"enter the decimal number to convert it to binary : \"))\n",
    "print(\"------------------------------------------------------------------------------\")\n",
    "print(\"the Decimal number {} to Binary number are {} \".format(number,bin(number).replace(\"0b\",\"\")))\n",
    "print(\"------------------------------------------------------------------------------\")\n",
    "print(\"the Decimal number {} to Octal number are {} \".format(number,oct(number)))\n",
    "print(\"------------------------------------------------------------------------------\")\n",
    "print(\"the Decimal number {} to Octal number are {} \".format(number,hex(number)))\n"
   ]
  },
  {
   "cell_type": "markdown",
   "id": "6f90e468",
   "metadata": {},
   "source": [
    "### 4. Write a Python Program To Find ASCII value of a character?"
   ]
  },
  {
   "cell_type": "code",
   "execution_count": 28,
   "id": "dada6d73",
   "metadata": {},
   "outputs": [
    {
     "name": "stdout",
     "output_type": "stream",
     "text": [
      "enter the  character to convert it to ascii : c\n",
      "the char c and has value in ascii are 99\n"
     ]
    }
   ],
   "source": [
    "inputt = input(\"enter the  character to convert it to ascii : \")\n",
    "\n",
    "print(\"The char {} and has value in ascii are {}\".format(inputt,ord(inputt)))\n"
   ]
  },
  {
   "cell_type": "markdown",
   "id": "46b929a2",
   "metadata": {},
   "source": [
    "### 5. Write a Python Program to Make a Simple Calculator with 4 basic mathematical operations?"
   ]
  },
  {
   "cell_type": "code",
   "execution_count": 33,
   "id": "97a02cfb",
   "metadata": {},
   "outputs": [
    {
     "name": "stdout",
     "output_type": "stream",
     "text": [
      "Calculator with 4 basic mathematical operations :\n",
      "option 1 : add two numbers \n",
      "option 2 : sub two numbers \n",
      "option 3 : div two numbers \n",
      "option 4 : mult two numbers \n",
      "\n",
      "Enter the option : 1\n",
      "Enter the number 1 : 20\n",
      "Enter the number 2 : 40\n",
      "add operation of number 20 and 40 are 60\n"
     ]
    }
   ],
   "source": [
    "\n",
    "print(\"Calculator with 4 basic mathematical operations :\")\n",
    "\n",
    "print(\"option 1 : add two numbers \")\n",
    "print(\"option 2 : sub two numbers \")\n",
    "print(\"option 3 : div two numbers \")\n",
    "print(\"option 4 : mult two numbers \\n\")\n",
    "\n",
    "option = int(input(\"Enter the option : \"))\n",
    "\n",
    "\n",
    "if option == 1 :\n",
    "    num1 = int(input(\"Enter the number 1 : \"))\n",
    "    num2 = int(input(\"Enter the number 2 : \"))\n",
    "    print(\"add operation of number {} and {} are {}\".format(num1,num2,(num1+num2)))\n",
    "elif option == 2 :\n",
    "    num1 = int(input(\"Enter the number 1 : \"))\n",
    "    num2 = int(input(\"Enter the number 2 : \"))\n",
    "    print(\"sub operation of number {} and {} are {}\".format(num1,num2,(num1-num2)))\n",
    "elif option == 2 :\n",
    "    num1 = int(input(\"Enter the number 1 : \"))\n",
    "    num2 = int(input(\"Enter the number 2 : \"))\n",
    "    print(\"div operation of number {} and {} are {}\".format(num1,num2,(num1/num2)))\n",
    "else:\n",
    "    num1 = int(input(\"Enter the number 1 : \"))\n",
    "    num2 = int(input(\"Enter the number 2 : \"))\n",
    "    print(\"mult operation of number {} and {} are {}\".format(num1,num2,(num1*num2)))\n",
    "\n",
    "\n"
   ]
  }
 ],
 "metadata": {
  "kernelspec": {
   "display_name": "Python 3",
   "language": "python",
   "name": "python3"
  },
  "language_info": {
   "codemirror_mode": {
    "name": "ipython",
    "version": 3
   },
   "file_extension": ".py",
   "mimetype": "text/x-python",
   "name": "python",
   "nbconvert_exporter": "python",
   "pygments_lexer": "ipython3",
   "version": "3.8.8"
  },
  "varInspector": {
   "cols": {
    "lenName": 16,
    "lenType": 16,
    "lenVar": 40
   },
   "kernels_config": {
    "python": {
     "delete_cmd_postfix": "",
     "delete_cmd_prefix": "del ",
     "library": "var_list.py",
     "varRefreshCmd": "print(var_dic_list())"
    },
    "r": {
     "delete_cmd_postfix": ") ",
     "delete_cmd_prefix": "rm(",
     "library": "var_list.r",
     "varRefreshCmd": "cat(var_dic_list()) "
    }
   },
   "types_to_exclude": [
    "module",
    "function",
    "builtin_function_or_method",
    "instance",
    "_Feature"
   ],
   "window_display": false
  }
 },
 "nbformat": 4,
 "nbformat_minor": 5
}
