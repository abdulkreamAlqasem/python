{
 "cells": [
  {
   "cell_type": "markdown",
   "id": "e1720f00",
   "metadata": {},
   "source": [
    "### 1. Write a Python Program to Display Fibonacci Sequence Using Recursion?"
   ]
  },
  {
   "cell_type": "code",
   "execution_count": 2,
   "id": "d33a556f",
   "metadata": {},
   "outputs": [
    {
     "name": "stdout",
     "output_type": "stream",
     "text": [
      "Enter the index number 33\n",
      "Fibonacci Sequence of the index number 33 are 3524578\n"
     ]
    }
   ],
   "source": [
    "\n",
    "def Fip(n):\n",
    "    if n == 0 or n == 1 :\n",
    "        return n\n",
    "    return Fip(n-1) + Fip(n-2)\n",
    "\n",
    "number = int(input(\"Enter the index number \"))\n",
    "print(\"Fibonacci Sequence of the index number {} are {}\".format(number,Fip(number)))"
   ]
  },
  {
   "cell_type": "markdown",
   "id": "a0a6bb13",
   "metadata": {},
   "source": [
    "### 2. Write a Python Program to Find Factorial of Number Using Recursion?"
   ]
  },
  {
   "cell_type": "code",
   "execution_count": 5,
   "id": "03b1efcf",
   "metadata": {},
   "outputs": [
    {
     "name": "stdout",
     "output_type": "stream",
     "text": [
      "Enter the number to see his factorial : 3\n",
      "factorial of number 3 are 6\n"
     ]
    }
   ],
   "source": [
    "def fac_num(n):\n",
    "    if n == 1 :\n",
    "        return n\n",
    "    return n * fac_num(n-1) \n",
    "\n",
    "number = int(input(\"Enter the number to see his factorial : \"))\n",
    "print(\"factorial of number {} are {}\".format(number,fac_num(number)))"
   ]
  },
  {
   "cell_type": "markdown",
   "id": "e06622d7",
   "metadata": {},
   "source": [
    "### 3. Write a Python Program to calculate your Body Mass Index?"
   ]
  },
  {
   "cell_type": "code",
   "execution_count": 2,
   "id": "0671110f",
   "metadata": {},
   "outputs": [
    {
     "name": "stdout",
     "output_type": "stream",
     "text": [
      "Enter your weight in kg : 70\n",
      "Enter your height in meter : 1.81\n",
      "Your Body Mass Index is 21.37 This is considered Normal weight .\n"
     ]
    }
   ],
   "source": [
    "\n",
    "\n",
    "kg = float(input(\"Enter your weight in kg : \"))\n",
    "m = float(input(\"Enter your height in meter : \"))\n",
    "\n",
    "BMI = kg/(m**2)\n",
    "\n",
    "if BMI < 18.5 :\n",
    "    print(\"Your Body Mass Index is {:.2f} This is considered Underweight .\".format(BMI))\n",
    "elif BMI >= 18.5 and BMI <= 24.9:\n",
    "    print(\"Your Body Mass Index is {:.2f} This is considered Normal weight .\".format(BMI))\n",
    "elif BMI >= 25 and BMI <= 29.9 :\n",
    "    print(\"Your Body Mass Index is {:.2f} This is considered overweight .\".format(BMI))\n",
    "else : \n",
    "    print(\"Your Body Mass Index is {:.2f} This is considered Obesity .\".format(BMI))\n",
    "\n"
   ]
  },
  {
   "cell_type": "markdown",
   "id": "6c22ce72",
   "metadata": {},
   "source": [
    "### 4. Write a Python Program to calculate the natural logarithm of any number?"
   ]
  },
  {
   "cell_type": "code",
   "execution_count": 6,
   "id": "9546d6e4",
   "metadata": {},
   "outputs": [
    {
     "name": "stdout",
     "output_type": "stream",
     "text": [
      "Enter the number : 1.5\n",
      "The Natural Logarithm of 1.5 is 0.40547\n"
     ]
    }
   ],
   "source": [
    "import math \n",
    "number = float(input(\"Enter the number : \"))\n",
    "\n",
    "print(\"The Natural Logarithm of {} is {:.5f}\".format(number,math.log(number)))"
   ]
  },
  {
   "cell_type": "markdown",
   "id": "df40376c",
   "metadata": {},
   "source": [
    "### 5. Write a Python Program for cube sum of first n natural numbers?"
   ]
  },
  {
   "cell_type": "code",
   "execution_count": 9,
   "id": "21bee1c0",
   "metadata": {},
   "outputs": [
    {
     "name": "stdout",
     "output_type": "stream",
     "text": [
      "Enter the n numbers to sum of cube from 1 to your number : 5\n",
      "the sum of cubes of the first 5 natural numbers is 225\n"
     ]
    }
   ],
   "source": [
    "\n",
    "number = int(input(\"Enter the n numbers to sum of cube from 1 to your number : \"))\n",
    "\n",
    "summ = 0\n",
    "\n",
    "for i in range(1,number+1):\n",
    "    summ = summ + i**3\n",
    "    \n",
    "print(\"the sum of cubes of the first {} natural numbers is {}\".format(number,summ))"
   ]
  }
 ],
 "metadata": {
  "kernelspec": {
   "display_name": "Python 3",
   "language": "python",
   "name": "python3"
  },
  "varInspector": {
   "cols": {
    "lenName": 16,
    "lenType": 16,
    "lenVar": 40
   },
   "kernels_config": {
    "python": {
     "delete_cmd_postfix": "",
     "delete_cmd_prefix": "del ",
     "library": "var_list.py",
     "varRefreshCmd": "print(var_dic_list())"
    },
    "r": {
     "delete_cmd_postfix": ") ",
     "delete_cmd_prefix": "rm(",
     "library": "var_list.r",
     "varRefreshCmd": "cat(var_dic_list()) "
    }
   },
   "types_to_exclude": [
    "module",
    "function",
    "builtin_function_or_method",
    "instance",
    "_Feature"
   ],
   "window_display": false
  }
 },
 "nbformat": 4,
 "nbformat_minor": 5
}
