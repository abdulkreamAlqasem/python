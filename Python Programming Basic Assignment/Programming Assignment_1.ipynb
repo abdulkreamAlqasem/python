{
 "cells": [
  {
   "cell_type": "markdown",
   "id": "61b50231",
   "metadata": {},
   "source": [
    "### 1. Write a Python program to print \"Hello Python\"?"
   ]
  },
  {
   "cell_type": "code",
   "execution_count": 17,
   "id": "35949ff5",
   "metadata": {},
   "outputs": [
    {
     "name": "stdout",
     "output_type": "stream",
     "text": [
      "Hello Python\n"
     ]
    }
   ],
   "source": [
    "print(\"Hello Python\")"
   ]
  },
  {
   "cell_type": "markdown",
   "id": "332c715a",
   "metadata": {},
   "source": [
    "### 2. Write a Python program to do arithmetical operations addition and division.?"
   ]
  },
  {
   "cell_type": "code",
   "execution_count": 18,
   "id": "28e2b82a",
   "metadata": {},
   "outputs": [
    {
     "name": "stdout",
     "output_type": "stream",
     "text": [
      "30\n",
      "2.0\n"
     ]
    }
   ],
   "source": [
    "a = 10\n",
    "b = 20 \n",
    "add_op=a+b\n",
    "div_op=b/a\n",
    "\n",
    "print(add_op)\n",
    "print(div_op)"
   ]
  },
  {
   "cell_type": "markdown",
   "id": "ccd34b5f",
   "metadata": {},
   "source": [
    "### 3. Write a Python program to find the area of a triangle?"
   ]
  },
  {
   "cell_type": "code",
   "execution_count": 19,
   "id": "3f7e15d0",
   "metadata": {},
   "outputs": [
    {
     "name": "stdout",
     "output_type": "stream",
     "text": [
      "25.0\n"
     ]
    }
   ],
   "source": [
    "\n",
    "base = 10\n",
    "\n",
    "height = 5\n",
    "\n",
    "area = 0.5 * base * height\n",
    "\n",
    "print(area)"
   ]
  },
  {
   "cell_type": "markdown",
   "id": "9d37c18f",
   "metadata": {},
   "source": [
    "### 4. Write a Python program to swap two variables?"
   ]
  },
  {
   "cell_type": "code",
   "execution_count": 20,
   "id": "306428c3",
   "metadata": {},
   "outputs": [
    {
     "name": "stdout",
     "output_type": "stream",
     "text": [
      "a before swap 10 and b before swap 6 \n",
      "a after swap 6 and b after swap 10 \n"
     ]
    }
   ],
   "source": [
    "a = 10\n",
    "b = 6 \n",
    "\n",
    "print(\"a before swap {} and b before swap {} \".format(a,b) )\n",
    "\n",
    "temp = a \n",
    "a = b\n",
    "b = temp \n",
    "\n",
    "print(\"a after swap {} and b after swap {} \".format(a,b) )"
   ]
  },
  {
   "cell_type": "markdown",
   "id": "d4e60321",
   "metadata": {},
   "source": [
    "### 5. Write a Python program to generate a random number?"
   ]
  },
  {
   "cell_type": "code",
   "execution_count": 21,
   "id": "7ec69505",
   "metadata": {},
   "outputs": [
    {
     "name": "stdout",
     "output_type": "stream",
     "text": [
      "563\n",
      "9135\n"
     ]
    }
   ],
   "source": [
    "import random\n",
    "\n",
    "print(random.choice(range(1,1000)))\n",
    "# or \n",
    "print(random.randint(1,10000))"
   ]
  }
 ],
 "metadata": {
  "kernelspec": {
   "display_name": "Python 3",
   "language": "python",
   "name": "python3"
  },
  "language_info": {
   "codemirror_mode": {
    "name": "ipython",
    "version": 3
   },
   "file_extension": ".py",
   "mimetype": "text/x-python",
   "name": "python",
   "nbconvert_exporter": "python",
   "pygments_lexer": "ipython3",
   "version": "3.8.8"
  },
  "varInspector": {
   "cols": {
    "lenName": 16,
    "lenType": 16,
    "lenVar": 40
   },
   "kernels_config": {
    "python": {
     "delete_cmd_postfix": "",
     "delete_cmd_prefix": "del ",
     "library": "var_list.py",
     "varRefreshCmd": "print(var_dic_list())"
    },
    "r": {
     "delete_cmd_postfix": ") ",
     "delete_cmd_prefix": "rm(",
     "library": "var_list.r",
     "varRefreshCmd": "cat(var_dic_list()) "
    }
   },
   "types_to_exclude": [
    "module",
    "function",
    "builtin_function_or_method",
    "instance",
    "_Feature"
   ],
   "window_display": false
  }
 },
 "nbformat": 4,
 "nbformat_minor": 5
}
