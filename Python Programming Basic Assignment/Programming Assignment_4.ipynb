{
 "cells": [
  {
   "cell_type": "markdown",
   "id": "795de2d2",
   "metadata": {},
   "source": [
    "### 1. Write a Python Program to Find the Factorial of a Number?"
   ]
  },
  {
   "cell_type": "code",
   "execution_count": 5,
   "id": "fc69861c",
   "metadata": {},
   "outputs": [
    {
     "name": "stdout",
     "output_type": "stream",
     "text": [
      "enter the number : 5\n",
      "The Factorial number of 5! is 120 \n"
     ]
    }
   ],
   "source": [
    "sum_of_num = 1\n",
    "number = int(input(\"enter the number : \"))\n",
    "for x in range(number,0,-1):\n",
    "    sum_of_num = sum_of_num * x\n",
    "\n",
    "print(\"The Factorial number of {}! is {} \".format(number,sum_of_num))"
   ]
  },
  {
   "cell_type": "markdown",
   "id": "0a80476f",
   "metadata": {},
   "source": [
    "### 2. Write a Python Program to Display the multiplication Table?"
   ]
  },
  {
   "cell_type": "code",
   "execution_count": 32,
   "id": "894a855f",
   "metadata": {},
   "outputs": [
    {
     "name": "stdout",
     "output_type": "stream",
     "text": [
      "Enter the number to display his multiplication Table : 2\n",
      " 2 * 1 = 2 \n",
      " 2 * 2 = 4 \n",
      " 2 * 3 = 6 \n",
      " 2 * 4 = 8 \n",
      " 2 * 5 = 10 \n",
      " 2 * 6 = 12 \n",
      " 2 * 7 = 14 \n",
      " 2 * 8 = 16 \n",
      " 2 * 9 = 18 \n",
      " 2 * 10 = 20 \n"
     ]
    }
   ],
   "source": [
    "\n",
    "number = int(input(\"Enter the number to display his multiplication Table : \"))\n",
    "\n",
    "for x in range(1,11):\n",
    "    print(\" {} * {} = {} \".format(number,x,(number*x)))"
   ]
  },
  {
   "cell_type": "markdown",
   "id": "44e4443a",
   "metadata": {},
   "source": [
    "### 3. Write a Python Program to Print the Fibonacci sequence?"
   ]
  },
  {
   "cell_type": "code",
   "execution_count": 6,
   "id": "8d2ee33d",
   "metadata": {},
   "outputs": [
    {
     "name": "stdout",
     "output_type": "stream",
     "text": [
      "Enter the number to display Fibonacci sequence : 10\n",
      "0\n",
      "1\n",
      "1\n",
      "2\n",
      "3\n",
      "5\n",
      "8\n",
      "13\n",
      "21\n",
      "34\n"
     ]
    }
   ],
   "source": [
    "\n",
    "number = int(input(\"Enter the number to display Fibonacci sequence : \"))\n",
    "    \n",
    "a = 0\n",
    "b = 1\n",
    "\n",
    "result = 0\n",
    "for x in range(1,number+1):\n",
    "    print(a)\n",
    "    result = a + b \n",
    "    a = b \n",
    "    b = result\n",
    "    \n",
    "    \n"
   ]
  },
  {
   "cell_type": "markdown",
   "id": "536257b0",
   "metadata": {},
   "source": [
    "### 4. Write a Python Program to Check Armstrong Number?"
   ]
  },
  {
   "cell_type": "code",
   "execution_count": 31,
   "id": "903c8a3c",
   "metadata": {},
   "outputs": [
    {
     "name": "stdout",
     "output_type": "stream",
     "text": [
      " Enter the number : 370\n",
      "The number 370 is Armstrong Number \n"
     ]
    }
   ],
   "source": [
    "number = input(\" Enter the number : \")\n",
    "list_ = []\n",
    "for i in range(0,len(number),1):\n",
    "    list_.append(int(number[i:i+1]))\n",
    "\n",
    "\n",
    "number_cup= list_[0]**3 + list_[1]**3 + list_[2]**3\n",
    "if int(number) == number_cup :\n",
    "    print(\"The number {} is Armstrong Number \".format(int(number)))\n",
    "else :\n",
    "    print(\"The number {} is not Armstrong Number \".format(int(number)))\n",
    "\n",
    "\n"
   ]
  },
  {
   "cell_type": "markdown",
   "id": "fd79e2a8",
   "metadata": {},
   "source": [
    "### 5. Write a Python Program to Find Armstrong Number in an Interval?"
   ]
  },
  {
   "cell_type": "code",
   "execution_count": 74,
   "id": "f8cac0a3",
   "metadata": {},
   "outputs": [
    {
     "name": "stdout",
     "output_type": "stream",
     "text": [
      " Enter the lower number in the interval : 1\n",
      " Enter the upper number in the interval : 1000\n",
      "the number 1 is Armstrong Number \n",
      "the number 2 is Armstrong Number \n",
      "the number 3 is Armstrong Number \n",
      "the number 4 is Armstrong Number \n",
      "the number 5 is Armstrong Number \n",
      "the number 6 is Armstrong Number \n",
      "the number 7 is Armstrong Number \n",
      "the number 8 is Armstrong Number \n",
      "the number 9 is Armstrong Number \n",
      "the number 153 is Armstrong Number \n",
      "the number 370 is Armstrong Number \n",
      "the number 371 is Armstrong Number \n",
      "the number 407 is Armstrong Number \n"
     ]
    }
   ],
   "source": [
    "lower = int(input(\" Enter the lower number in the interval : \"))\n",
    "upper = int(input(\" Enter the upper number in the interval : \"))\n",
    "\n",
    "for num in range(lower,upper+1):\n",
    "    order = len(str(num))\n",
    "    summ = 0\n",
    "    temp = num \n",
    "    while temp > 0:\n",
    "        digit = temp % 10\n",
    "        summ = summ + digit**order\n",
    "        temp =temp//10\n",
    "    if num == summ :\n",
    "        print(\"the number {} is Armstrong Number \".format(num))\n",
    "    "
   ]
  },
  {
   "cell_type": "markdown",
   "id": "51c8a8e2",
   "metadata": {},
   "source": [
    "### 6. Write a Python Program to Find the Sum of Natural Numbers?"
   ]
  },
  {
   "cell_type": "code",
   "execution_count": 77,
   "id": "931d929d",
   "metadata": {},
   "outputs": [
    {
     "name": "stdout",
     "output_type": "stream",
     "text": [
      "Enter the last number to get sum up to that number : 10\n",
      "the sum of the number between 1 to 10 is 45\n"
     ]
    }
   ],
   "source": [
    "\n",
    "last_number = int(input(\"Enter the last number to get sum up to that number : \"))\n",
    "\n",
    "summ = 0\n",
    "\n",
    "for i in range(1,last_number):\n",
    "    summ+=i\n",
    "print(\"the sum of the number between 1 to {} is {}\".format(last_number,summ))"
   ]
  }
 ],
 "metadata": {
  "kernelspec": {
   "display_name": "Python 3",
   "language": "python",
   "name": "python3"
  },
  "language_info": {
   "codemirror_mode": {
    "name": "ipython",
    "version": 3
   },
   "file_extension": ".py",
   "mimetype": "text/x-python",
   "name": "python",
   "nbconvert_exporter": "python",
   "pygments_lexer": "ipython3",
   "version": "3.8.8"
  },
  "varInspector": {
   "cols": {
    "lenName": 16,
    "lenType": 16,
    "lenVar": 40
   },
   "kernels_config": {
    "python": {
     "delete_cmd_postfix": "",
     "delete_cmd_prefix": "del ",
     "library": "var_list.py",
     "varRefreshCmd": "print(var_dic_list())"
    },
    "r": {
     "delete_cmd_postfix": ") ",
     "delete_cmd_prefix": "rm(",
     "library": "var_list.r",
     "varRefreshCmd": "cat(var_dic_list()) "
    }
   },
   "types_to_exclude": [
    "module",
    "function",
    "builtin_function_or_method",
    "instance",
    "_Feature"
   ],
   "window_display": false
  }
 },
 "nbformat": 4,
 "nbformat_minor": 5
}
