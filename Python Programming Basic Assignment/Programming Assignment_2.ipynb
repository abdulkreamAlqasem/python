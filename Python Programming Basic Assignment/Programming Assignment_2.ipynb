{
 "cells": [
  {
   "cell_type": "markdown",
   "id": "b307d767",
   "metadata": {},
   "source": [
    "### 1. Write a Python program to convert kilometers to miles?"
   ]
  },
  {
   "cell_type": "code",
   "execution_count": 6,
   "id": "94795cb4",
   "metadata": {},
   "outputs": [
    {
     "name": "stdout",
     "output_type": "stream",
     "text": [
      "Enter the kilometers : 3333\n",
      "kilometers 3333 to miles --> 2071.1261999999997 miles\n"
     ]
    }
   ],
   "source": [
    "\n",
    "kilo = int(input(\"Enter the kilometers : \"))\n",
    "miles = kilo * 0.6214 \n",
    "\n",
    "print(\"kilometers {} to miles --> {} miles\".format(kilo,miles))"
   ]
  },
  {
   "cell_type": "markdown",
   "id": "555c6d6b",
   "metadata": {},
   "source": [
    "### 2. Write a Python program to convert Celsius to Fahrenheit?"
   ]
  },
  {
   "cell_type": "code",
   "execution_count": 7,
   "id": "f0962ae8",
   "metadata": {},
   "outputs": [
    {
     "name": "stdout",
     "output_type": "stream",
     "text": [
      "Enter the Celsius : 33\n",
      "Celsius 33 to Fahrenheit --> 91.4F\n"
     ]
    }
   ],
   "source": [
    "celsius = int(input(\"Enter the Celsius : \"))\n",
    "\n",
    "fahrenheit = (celsius * (9/5)) + 32\n",
    "\n",
    "print(\"Celsius {} to Fahrenheit --> {}F\".format(celsius,fahrenheit))"
   ]
  },
  {
   "cell_type": "markdown",
   "id": "a6ec592a",
   "metadata": {},
   "source": [
    "### 3. Write a Python program to display calendar?"
   ]
  },
  {
   "cell_type": "code",
   "execution_count": 12,
   "id": "57bd977f",
   "metadata": {},
   "outputs": [
    {
     "name": "stdout",
     "output_type": "stream",
     "text": [
      "                                  2022\n",
      "\n",
      "      January                   February                   March\n",
      "Mo Tu We Th Fr Sa Su      Mo Tu We Th Fr Sa Su      Mo Tu We Th Fr Sa Su\n",
      "                1  2          1  2  3  4  5  6          1  2  3  4  5  6\n",
      " 3  4  5  6  7  8  9       7  8  9 10 11 12 13       7  8  9 10 11 12 13\n",
      "10 11 12 13 14 15 16      14 15 16 17 18 19 20      14 15 16 17 18 19 20\n",
      "17 18 19 20 21 22 23      21 22 23 24 25 26 27      21 22 23 24 25 26 27\n",
      "24 25 26 27 28 29 30      28                        28 29 30 31\n",
      "31\n",
      "\n",
      "       April                      May                       June\n",
      "Mo Tu We Th Fr Sa Su      Mo Tu We Th Fr Sa Su      Mo Tu We Th Fr Sa Su\n",
      "             1  2  3                         1             1  2  3  4  5\n",
      " 4  5  6  7  8  9 10       2  3  4  5  6  7  8       6  7  8  9 10 11 12\n",
      "11 12 13 14 15 16 17       9 10 11 12 13 14 15      13 14 15 16 17 18 19\n",
      "18 19 20 21 22 23 24      16 17 18 19 20 21 22      20 21 22 23 24 25 26\n",
      "25 26 27 28 29 30         23 24 25 26 27 28 29      27 28 29 30\n",
      "                          30 31\n",
      "\n",
      "        July                     August                  September\n",
      "Mo Tu We Th Fr Sa Su      Mo Tu We Th Fr Sa Su      Mo Tu We Th Fr Sa Su\n",
      "             1  2  3       1  2  3  4  5  6  7                1  2  3  4\n",
      " 4  5  6  7  8  9 10       8  9 10 11 12 13 14       5  6  7  8  9 10 11\n",
      "11 12 13 14 15 16 17      15 16 17 18 19 20 21      12 13 14 15 16 17 18\n",
      "18 19 20 21 22 23 24      22 23 24 25 26 27 28      19 20 21 22 23 24 25\n",
      "25 26 27 28 29 30 31      29 30 31                  26 27 28 29 30\n",
      "\n",
      "      October                   November                  December\n",
      "Mo Tu We Th Fr Sa Su      Mo Tu We Th Fr Sa Su      Mo Tu We Th Fr Sa Su\n",
      "                1  2          1  2  3  4  5  6                1  2  3  4\n",
      " 3  4  5  6  7  8  9       7  8  9 10 11 12 13       5  6  7  8  9 10 11\n",
      "10 11 12 13 14 15 16      14 15 16 17 18 19 20      12 13 14 15 16 17 18\n",
      "17 18 19 20 21 22 23      21 22 23 24 25 26 27      19 20 21 22 23 24 25\n",
      "24 25 26 27 28 29 30      28 29 30                  26 27 28 29 30 31\n",
      "31\n",
      "\n"
     ]
    }
   ],
   "source": [
    "import calendar\n",
    "\n",
    "print(calendar.calendar(2022))"
   ]
  },
  {
   "cell_type": "markdown",
   "id": "ec529a36",
   "metadata": {},
   "source": [
    "### 4. Write a Python program to solve quadratic equation?"
   ]
  },
  {
   "cell_type": "code",
   "execution_count": 8,
   "id": "ed8edd9e",
   "metadata": {
    "scrolled": true
   },
   "outputs": [
    {
     "name": "stdout",
     "output_type": "stream",
     "text": [
      "Enter the value of a : 5\n",
      "Enter the value of b : 6\n",
      "Enter the value of c : 1\n",
      "The equation has two roots -0.2  and -1.0\n",
      "answer of root positve 5*(-0.2)^2 + 6*(-0.2) + 1 = -2.220446049250313e-16\n",
      "answer of root negative 5*(-1.0)^2 + 6*(-1.0) + 1 = 0.0\n"
     ]
    }
   ],
   "source": [
    "a = int(input(\"Enter the value of a : \"))\n",
    "b = int(input(\"Enter the value of b : \"))\n",
    "c = int(input(\"Enter the value of c : \"))\n",
    "\n",
    "discriminant = b**2 - 4*a*c\n",
    "\n",
    "x_pos = (-b + discriminant**0.5)/(2*a)\n",
    "x_neg = (-b - discriminant**0.5)/(2*a)\n",
    "\n",
    "answer_pos=(a*(x_pos**2)) + (b*x_pos) + c\n",
    "answer_neg=(a*(x_neg**2)) + (b*x_neg) + c\n",
    "if discriminant > 0 :\n",
    "    print(\"The equation has two roots {}  and {}\".format(x_pos,x_neg))\n",
    "    print(\"answer of root positve {}*({})^2 + {}*({}) + {} = {}\".format(a,x_pos,b,x_pos,c,answer_pos))\n",
    "    print(\"answer of root negative {}*({})^2 + {}*({}) + {} = {}\".format(a,x_neg,b,x_neg,c,answer_neg))\n",
    "elif discriminant < 0:\n",
    "    print(\"The equation has two roots that complex {}  and {}\".format(x_pos,x_neg))\n",
    "    print(\"answer of root positve {}*({})^2 + {}*({}) + {} = {}\".format(a,x_pos,b,x_pos,c,answer_pos))\n",
    "    print(\"answer of root negative {}*({})^2 + {}*({}) + {} = {}\".format(a,x_neg,b,x_neg,c,answer_neg))\n",
    "else :\n",
    "    print(\"The equation has same answer  {}  and {}\".format(x_pos,x_neg))\n",
    "    print(\"answer of root positve {}*({})^2 + {}*({}) + {} = {}\".format(a,x_pos,b,x_pos,c,answer_pos))\n",
    "    print(\"answer of root negative {}*({})^2 + {}*({}) + {} = {}\".format(a,x_neg,b,x_neg,c,answer_neg))\n",
    "    \n",
    "\n",
    "\n",
    "\n"
   ]
  },
  {
   "cell_type": "markdown",
   "id": "eebf9205",
   "metadata": {},
   "source": [
    "### 5. Write a Python program to swap two variables without temp variable?"
   ]
  },
  {
   "cell_type": "code",
   "execution_count": 11,
   "id": "8bb0daca",
   "metadata": {},
   "outputs": [
    {
     "name": "stdout",
     "output_type": "stream",
     "text": [
      "50\n",
      "33\n"
     ]
    }
   ],
   "source": [
    "a = 33\n",
    "\n",
    "b = 50 \n",
    "\n",
    "a,b=b,a \n",
    "\n",
    "print(a)\n",
    "print(b)"
   ]
  }
 ],
 "metadata": {
  "kernelspec": {
   "display_name": "Python 3",
   "language": "python",
   "name": "python3"
  },
  "varInspector": {
   "cols": {
    "lenName": 16,
    "lenType": 16,
    "lenVar": 40
   },
   "kernels_config": {
    "python": {
     "delete_cmd_postfix": "",
     "delete_cmd_prefix": "del ",
     "library": "var_list.py",
     "varRefreshCmd": "print(var_dic_list())"
    },
    "r": {
     "delete_cmd_postfix": ") ",
     "delete_cmd_prefix": "rm(",
     "library": "var_list.r",
     "varRefreshCmd": "cat(var_dic_list()) "
    }
   },
   "types_to_exclude": [
    "module",
    "function",
    "builtin_function_or_method",
    "instance",
    "_Feature"
   ],
   "window_display": false
  }
 },
 "nbformat": 4,
 "nbformat_minor": 5
}
