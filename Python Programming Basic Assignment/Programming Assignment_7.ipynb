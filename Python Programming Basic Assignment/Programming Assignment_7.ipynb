{
 "cells": [
  {
   "cell_type": "markdown",
   "id": "f6f350bb",
   "metadata": {},
   "source": [
    "### 1. Write a Python Program to find sum of array?"
   ]
  },
  {
   "cell_type": "code",
   "execution_count": 2,
   "id": "f991eeb8",
   "metadata": {},
   "outputs": [
    {
     "name": "stdout",
     "output_type": "stream",
     "text": [
      "Enter the length of the array (list) : 5\n",
      "Enter the number : 2\n",
      "Enter the number : 2\n",
      "Enter the number : 2\n",
      "Enter the number : 2\n",
      "Enter the number : 2\n",
      "10\n"
     ]
    }
   ],
   "source": [
    "length = int(input(\"Enter the length of the array (list) : \"))\n",
    "lis = []\n",
    "summ=0\n",
    "for i in range(length):\n",
    "    lis.append(int(input(\"Enter the number : \")))\n",
    "    summ = summ + lis[i]\n",
    "print(summ)\n"
   ]
  },
  {
   "cell_type": "markdown",
   "id": "906f530e",
   "metadata": {},
   "source": [
    "### 2. Write a Python Program to find largest element in an array?"
   ]
  },
  {
   "cell_type": "code",
   "execution_count": 6,
   "id": "0281ad1f",
   "metadata": {},
   "outputs": [
    {
     "name": "stdout",
     "output_type": "stream",
     "text": [
      "Enter the length of the array (list) : 4\n",
      "Enter the number : 333\n",
      "Enter the number : 333333\n",
      "Enter the number : 3\n",
      "Enter the number : -2\n",
      "the largest number in list are  333333\n"
     ]
    }
   ],
   "source": [
    "length = int(input(\"Enter the length of the array (list) : \"))\n",
    "lis = []\n",
    "\n",
    "for i in range(length):\n",
    "    lis.append(int(input(\"Enter the number : \")))\n",
    "    \n",
    "lis.sort()\n",
    "print(\"the largest number in list are \",lis[-1])"
   ]
  },
  {
   "cell_type": "markdown",
   "id": "11a946d5",
   "metadata": {},
   "source": [
    "### 3. Write a Python Program for array rotation?"
   ]
  },
  {
   "cell_type": "code",
   "execution_count": 79,
   "id": "35bf7343",
   "metadata": {},
   "outputs": [
    {
     "name": "stdout",
     "output_type": "stream",
     "text": [
      "Enter the number to rotate it 2\n",
      "[3, 4, 5, 6, 7, 1, 2]\n"
     ]
    }
   ],
   "source": [
    "## left rotation\n",
    "num_index = int(input(\"Enter the number to rotate it \")) -1\n",
    "\n",
    "lis = [1,2,3,4,5,6,7]\n",
    "\n",
    "\n",
    "new_list = lis[num_index+1:]\n",
    "rotateList = lis[0:num_index+1]\n",
    "\n",
    "for i in range(0,num_index+1):\n",
    "    new_list.append(lis[i])\n",
    "print(new_list)\n"
   ]
  },
  {
   "cell_type": "markdown",
   "id": "852b87f9",
   "metadata": {},
   "source": [
    "### 4. Write a Python Program to Split the array and add the first part to the end?"
   ]
  },
  {
   "cell_type": "code",
   "execution_count": 45,
   "id": "de91ac2d",
   "metadata": {},
   "outputs": [
    {
     "name": "stdout",
     "output_type": "stream",
     "text": [
      "3 4 5 6 7 1 2 "
     ]
    }
   ],
   "source": [
    "## i dont understand this question i think its the same as the previous question\n",
    "lis = [1,2,3,4,5,6,7]\n",
    "\n",
    "\n",
    "new_list = lis[num_index+1:]\n",
    "rotateList = lis[0:num_index+1]\n",
    "\n",
    "for i in range(0,num_index+1):\n",
    "    new_list.append(lis[i])\n",
    "  \n",
    "\n",
    "n = len(arr)\n",
    "  \n",
    "  \n",
    "for i in range(0, n): \n",
    "    print(new_list[i], end = ' ')"
   ]
  },
  {
   "cell_type": "markdown",
   "id": "4a634fb1",
   "metadata": {},
   "source": [
    "### 5. Write a Python Program to check if given array is Monotonic?"
   ]
  },
  {
   "cell_type": "code",
   "execution_count": 78,
   "id": "37867a4e",
   "metadata": {},
   "outputs": [
    {
     "name": "stdout",
     "output_type": "stream",
     "text": [
      "Enter the length of the array : 9\n",
      "Enter the value of index 0 of the array : 9\n",
      "Enter the value of index 1 of the array : 8\n",
      "Enter the value of index 2 of the array : 7\n",
      "Enter the value of index 3 of the array : 6\n",
      "Enter the value of index 4 of the array : 5\n",
      "Enter the value of index 5 of the array : 4\n",
      "Enter the value of index 6 of the array : 3\n",
      "Enter the value of index 7 of the array : 2\n",
      "Enter the value of index 8 of the array : 1\n",
      "[9, 8, 7, 6, 5, 4, 3, 2, 1]\n"
     ]
    },
    {
     "data": {
      "text/plain": [
       "True"
      ]
     },
     "execution_count": 78,
     "metadata": {},
     "output_type": "execute_result"
    }
   ],
   "source": [
    "length = int(input(\"Enter the length of the array : \"))\n",
    "arr = []\n",
    "\n",
    "for x in range(length):\n",
    "    arr.append(int(input(\"Enter the value of index {} of the array : \".format(x))))\n",
    "print(arr)\n",
    "(all(nums[i] <= nums[i+1] for i in range(len(nums)-1)) or all(nums[i] >= nums[i+1] for i in range(len(nums)-1)))"
   ]
  }
 ],
 "metadata": {
  "kernelspec": {
   "display_name": "Python 3",
   "language": "python",
   "name": "python3"
  },
  "language_info": {
   "codemirror_mode": {
    "name": "ipython",
    "version": 3
   },
   "file_extension": ".py",
   "mimetype": "text/x-python",
   "name": "python",
   "nbconvert_exporter": "python",
   "pygments_lexer": "ipython3",
   "version": "3.8.8"
  },
  "varInspector": {
   "cols": {
    "lenName": 16,
    "lenType": 16,
    "lenVar": 40
   },
   "kernels_config": {
    "python": {
     "delete_cmd_postfix": "",
     "delete_cmd_prefix": "del ",
     "library": "var_list.py",
     "varRefreshCmd": "print(var_dic_list())"
    },
    "r": {
     "delete_cmd_postfix": ") ",
     "delete_cmd_prefix": "rm(",
     "library": "var_list.r",
     "varRefreshCmd": "cat(var_dic_list()) "
    }
   },
   "types_to_exclude": [
    "module",
    "function",
    "builtin_function_or_method",
    "instance",
    "_Feature"
   ],
   "window_display": false
  }
 },
 "nbformat": 4,
 "nbformat_minor": 5
}
