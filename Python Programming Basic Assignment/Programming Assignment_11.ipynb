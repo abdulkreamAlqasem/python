{
 "cells": [
  {
   "cell_type": "markdown",
   "id": "04aa729d",
   "metadata": {},
   "source": [
    "### 1. Write a Python program to find words which are greater than given length k?"
   ]
  },
  {
   "cell_type": "code",
   "execution_count": 7,
   "id": "dcc398a7",
   "metadata": {},
   "outputs": [
    {
     "name": "stdout",
     "output_type": "stream",
     "text": [
      "Enter the length k : 3\n",
      "The\n",
      "may\n",
      "its\n",
      "and\n",
      "the\n",
      "may\n",
      "and\n",
      "(or\n",
      "may\n",
      "(or\n",
      "and\n",
      "the\n",
      "and\n",
      "may\n",
      "for\n"
     ]
    }
   ],
   "source": [
    "string = \"\"\"In cccc computer programming, a string is traditionally a sequence of characters, either as a literal constant or as some kind of variable. The latter may allow its elements to be mutated and the length changed, or it may be fixed (after creation). A string is generally considered as a data type and is often implemented as an array data structure of bytes (or words) that stores a sequence of elements, typically characters, using some character encoding. String may also denote more general arrays or other sequence (or list) data types and structures.\n",
    "\n",
    "Depending on the programming language and precise data type used, a variable declared to be a string may either cause storage in memory to be statically allocated for a predetermined maximum length or employ dynamic allocation to allow it to hold a variable number of elements.\n",
    "\n",
    "When a string appears literally in source code, it is known as a string literal or an anonymous string.[1]\"\"\"\n",
    "\n",
    "\n",
    "k = int(input(\"Enter the length k : \"))\n",
    "\n",
    "lis = string.split(\" \")\n",
    "\n",
    "new_lis = [word for word in lis if len(word) == k]\n",
    "\n",
    "for i in new_lis:\n",
    "    print(i)\n",
    "    \n",
    "\n",
    "\n",
    "\n"
   ]
  },
  {
   "cell_type": "markdown",
   "id": "9f483e15",
   "metadata": {},
   "source": [
    "### 2. Write a Python program for removing i-th character from a string?"
   ]
  },
  {
   "cell_type": "code",
   "execution_count": 12,
   "id": "07f169c7",
   "metadata": {},
   "outputs": [
    {
     "name": "stdout",
     "output_type": "stream",
     "text": [
      "In ------------ ---omputer programming, a string is traditionally a sequen---e of ---hara---ters, either as a literal ---onstant or as some kind of variable. The latter may allow its elements to be mutated and the length ---hanged, or it may be fixed (after ---reation). A string is generally ---onsidered as a data type and is often implemented as an array data stru---ture of bytes (or words) that stores a sequen---e of elements, typi---ally ---hara---ters, using some ---hara---ter en---oding. String may also denote more general arrays or other sequen---e (or list) data types and stru---tures.\n",
      "\n",
      "Depending on the programming language and pre---ise data type used, a variable de---lared to be a string may either ---ause storage in memory to be stati---ally allo---ated for a predetermined maximum length or employ dynami--- allo---ation to allow it to hold a variable number of elements.\n",
      "\n",
      "When a string appears literally in sour---e ---ode, it is known as a string literal or an anonymous string.[1]\n"
     ]
    }
   ],
   "source": [
    "string = \"\"\"In cccc computer programming, a string is traditionally a sequence of characters, either as a literal constant or as some kind of variable. The latter may allow its elements to be mutated and the length changed, or it may be fixed (after creation). A string is generally considered as a data type and is often implemented as an array data structure of bytes (or words) that stores a sequence of elements, typically characters, using some character encoding. String may also denote more general arrays or other sequence (or list) data types and structures.\n",
    "\n",
    "Depending on the programming language and precise data type used, a variable declared to be a string may either cause storage in memory to be statically allocated for a predetermined maximum length or employ dynamic allocation to allow it to hold a variable number of elements.\n",
    "\n",
    "When a string appears literally in source code, it is known as a string literal or an anonymous string.[1]\"\"\"\n",
    "\n",
    "\n",
    "for i in range(1,100):\n",
    "    string=string.replace(\"c\",\"---\")\n",
    "    \n",
    "print(string)\n",
    "\n"
   ]
  },
  {
   "cell_type": "markdown",
   "id": "68a0f6aa",
   "metadata": {},
   "source": [
    "### 3. Write a Python program to split and join a string?"
   ]
  },
  {
   "cell_type": "code",
   "execution_count": 18,
   "id": "d9873aef",
   "metadata": {},
   "outputs": [
    {
     "name": "stdout",
     "output_type": "stream",
     "text": [
      "string after split\n",
      "['In', 'cccc', 'computer', 'programming,', 'a', 'string', 'is', 'traditionally', 'a', 'sequence', 'of', 'characters,', 'either', 'as', 'a', 'literal', 'constant', 'or', 'as', 'some', 'kind', 'of', 'variable.', 'The', 'latter', 'may', 'allow', 'its', 'elements', 'to', 'be', 'mutated', 'and', 'the', 'length', 'changed,', 'or', 'it', 'may', 'be', 'fixed', '(after', 'creation).', 'A', 'string', 'is', 'generally', 'considered', 'as', 'a', 'data', 'type', 'and', 'is', 'often', 'implemented', 'as', 'an', 'array', 'data', 'structure', 'of', 'bytes', '(or', 'words)', 'that', 'stores', 'a', 'sequence', 'of', 'elements,', 'typically', 'characters,', 'using', 'some', 'character', 'encoding.', 'String', 'may', 'also', 'denote', 'more', 'general', 'arrays', 'or', 'other', 'sequence', '(or', 'list)', 'data', 'types', 'and', 'structures.\\n\\nDepending', 'on', 'the', 'programming', 'language', 'and', 'precise', 'data', 'type', 'used,', 'a', 'variable', 'declared', 'to', 'be', 'a', 'string', 'may', 'either', 'cause', 'storage', 'in', 'memory', 'to', 'be', 'statically', 'allocated', 'for', 'a', 'predetermined', 'maximum', 'length', 'or', 'employ', 'dynamic', 'allocation', 'to', 'allow', 'it', 'to', 'hold', 'a', 'variable', 'number', 'of', 'elements.\\n\\nWhen', 'a', 'string', 'appears', 'literally', 'in', 'source', 'code,', 'it', 'is', 'known', 'as', 'a', 'string', 'literal', 'or', 'an', 'anonymous', 'string.[1]']\n",
      "-------------------------\n",
      "string after join\n",
      "\n",
      "In cccc computer programming, a string is traditionally a sequence of characters, either as a literal constant or as some kind of variable. The latter may allow its elements to be mutated and the length changed, or it may be fixed (after creation). A string is generally considered as a data type and is often implemented as an array data structure of bytes (or words) that stores a sequence of elements, typically characters, using some character encoding. String may also denote more general arrays or other sequence (or list) data types and structures.\n",
      "\n",
      "Depending on the programming language and precise data type used, a variable declared to be a string may either cause storage in memory to be statically allocated for a predetermined maximum length or employ dynamic allocation to allow it to hold a variable number of elements.\n",
      "\n",
      "When a string appears literally in source code, it is known as a string literal or an anonymous string.[1]\n"
     ]
    }
   ],
   "source": [
    "string = \"\"\"In cccc computer programming, a string is traditionally a sequence of characters, either as a literal constant or as some kind of variable. The latter may allow its elements to be mutated and the length changed, or it may be fixed (after creation). A string is generally considered as a data type and is often implemented as an array data structure of bytes (or words) that stores a sequence of elements, typically characters, using some character encoding. String may also denote more general arrays or other sequence (or list) data types and structures.\n",
    "\n",
    "Depending on the programming language and precise data type used, a variable declared to be a string may either cause storage in memory to be statically allocated for a predetermined maximum length or employ dynamic allocation to allow it to hold a variable number of elements.\n",
    "\n",
    "When a string appears literally in source code, it is known as a string literal or an anonymous string.[1]\"\"\"\n",
    "\n",
    "\n",
    "print(\"string after split\")\n",
    "print(string.split(\" \"))\n",
    "\n",
    "\n",
    "print(\"-------------------------\")\n",
    "\n",
    "print(\"string after join\")\n",
    "print(\"\")\n",
    "print(\"\".join(string))"
   ]
  },
  {
   "cell_type": "markdown",
   "id": "6811e3ad",
   "metadata": {},
   "source": [
    "### 4. Write a Python to check if a given string is binary string or not?"
   ]
  },
  {
   "cell_type": "code",
   "execution_count": 4,
   "id": "28ac8b7f",
   "metadata": {},
   "outputs": [
    {
     "name": "stdout",
     "output_type": "stream",
     "text": [
      "Enter the string : 10101010\n",
      "the string is binary\n"
     ]
    }
   ],
   "source": [
    "string = input(\"Enter the string : \")\n",
    "\n",
    "lis = [\"1\",\"0\"]\n",
    "\n",
    "isbin = False\n",
    "for i in range(len(string)):\n",
    "    if string[i] == lis[0] or string[i] == lis[1]:\n",
    "        isbin = True\n",
    "        continue\n",
    "    else:\n",
    "        print(\"the string is not binary\")\n",
    "        break\n",
    "if isbin :\n",
    "    print(\"the string is binary\")\n",
    "    "
   ]
  },
  {
   "cell_type": "markdown",
   "id": "6400ae98",
   "metadata": {},
   "source": [
    "### 5. Write a Python program to find uncommon words from two Strings?"
   ]
  },
  {
   "cell_type": "code",
   "execution_count": 15,
   "id": "f37b6769",
   "metadata": {},
   "outputs": [
    {
     "data": {
      "text/plain": [
       "['hi', 'my', 'abdulkream', 'gg']"
      ]
     },
     "execution_count": 15,
     "metadata": {},
     "output_type": "execute_result"
    }
   ],
   "source": [
    "str1 = \"hi my name is abdulkream\"\n",
    "lisStr1 = str1.split()\n",
    "str2 = \"gg is name\"\n",
    "lisStr2 = str2.split()\n",
    "\n",
    "noCommon = []\n",
    "for i in lisStr1:\n",
    "    if i not in lisStr2:\n",
    "        noCommon.append(i)\n",
    "    \n",
    "for j in lisStr2:\n",
    "    if j not in lisStr1:\n",
    "        noCommon.append(j)\n",
    "    \n",
    "\n",
    "noCommon"
   ]
  },
  {
   "cell_type": "markdown",
   "id": "3b9c50a6",
   "metadata": {},
   "source": [
    "### 6. Write a Python to find all duplicate characters in string?"
   ]
  },
  {
   "cell_type": "code",
   "execution_count": 25,
   "id": "d1d578b4",
   "metadata": {},
   "outputs": [
    {
     "name": "stdout",
     "output_type": "stream",
     "text": [
      "{'m', 'e', 'i', ' ', 'a'}\n"
     ]
    }
   ],
   "source": [
    "string = \"hi my name is abdulkream\"\n",
    "\n",
    "charDup = [char for char in string if string.count(char)>1]\n",
    "charDup = set(charDup)\n",
    "\n",
    "print(charDup)"
   ]
  },
  {
   "cell_type": "markdown",
   "id": "ef54052c",
   "metadata": {},
   "source": [
    "### 7. Write a Python Program to check if a string contains any special character?"
   ]
  },
  {
   "cell_type": "code",
   "execution_count": 23,
   "id": "26123077",
   "metadata": {},
   "outputs": [
    {
     "data": {
      "text/plain": [
       "['\\n', '\\\\', \"'\", '\\t', '\\n', '\\x0c']"
      ]
     },
     "execution_count": 23,
     "metadata": {},
     "output_type": "execute_result"
    }
   ],
   "source": [
    "string = \"hi my name is \\n abdulkream \\\\ \\' \\t \\n \\f\"\n",
    "\n",
    "speChar = [\"\\n\",\"\\t\",\"\\r\",\"\\b\",\"\\f\",\"\\'\",\"\\\"\",\"\\\\\",\"\\v\",\"\\a\"]\n",
    "\n",
    "\n",
    "conSpec = [char for char in string if char in speChar]\n",
    "\n",
    "conSpec"
   ]
  }
 ],
 "metadata": {
  "kernelspec": {
   "display_name": "Python 3",
   "language": "python",
   "name": "python3"
  },
  "language_info": {
   "codemirror_mode": {
    "name": "ipython",
    "version": 3
   },
   "file_extension": ".py",
   "mimetype": "text/x-python",
   "name": "python",
   "nbconvert_exporter": "python",
   "pygments_lexer": "ipython3",
   "version": "3.8.8"
  },
  "varInspector": {
   "cols": {
    "lenName": 16,
    "lenType": 16,
    "lenVar": 40
   },
   "kernels_config": {
    "python": {
     "delete_cmd_postfix": "",
     "delete_cmd_prefix": "del ",
     "library": "var_list.py",
     "varRefreshCmd": "print(var_dic_list())"
    },
    "r": {
     "delete_cmd_postfix": ") ",
     "delete_cmd_prefix": "rm(",
     "library": "var_list.r",
     "varRefreshCmd": "cat(var_dic_list()) "
    }
   },
   "types_to_exclude": [
    "module",
    "function",
    "builtin_function_or_method",
    "instance",
    "_Feature"
   ],
   "window_display": false
  }
 },
 "nbformat": 4,
 "nbformat_minor": 5
}
