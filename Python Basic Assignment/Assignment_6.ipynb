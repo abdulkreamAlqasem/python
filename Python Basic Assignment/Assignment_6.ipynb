{
 "cells": [
  {
   "cell_type": "markdown",
   "id": "2509ba03",
   "metadata": {},
   "source": [
    "### 1. What are escape characters, and how do you use them?\n",
    "\n",
    "An\n",
    "\n",
    "the escape characters are ----->  \\\n",
    "\n",
    "its uesful if i want to print i newline we will use \\n \n",
    "\n",
    "and if i want to make a tap between two word so we will use \\t \n",
    "\n",
    "and so on "
   ]
  },
  {
   "cell_type": "markdown",
   "id": "884945b2",
   "metadata": {},
   "source": [
    "### 2. What do the escape characters n and t stand for?\n",
    "\n",
    "An\n",
    "\n",
    "\\n stand for print newline \n",
    "\n",
    "\\t stand for print a tap "
   ]
  },
  {
   "cell_type": "markdown",
   "id": "833224b1",
   "metadata": {},
   "source": [
    "### 3. What is the way to include backslash characters in a string?\n",
    "\n",
    "An\n",
    "\n",
    "if we use a escape character then we put \\n in the string and then print it \n",
    "\n",
    "but if we want to print backslash so we put \\\\ double escape character to print one backslash"
   ]
  },
  {
   "cell_type": "code",
   "execution_count": 8,
   "id": "860986d0",
   "metadata": {},
   "outputs": [
    {
     "name": "stdout",
     "output_type": "stream",
     "text": [
      "hi\n",
      "myname is \\abdulkream\n"
     ]
    }
   ],
   "source": [
    "a = \"hi\\nmyname is \\\\abdulkream\"\n",
    "print(a)"
   ]
  },
  {
   "cell_type": "markdown",
   "id": "26327949",
   "metadata": {},
   "source": [
    "### 4. The string \"Howl's Moving Castle\" is a correct value. Why isn't the single quote character in the word Howl's not escaped a problem?\n",
    "\n",
    "An\n",
    "\n",
    "i do not understand this qos"
   ]
  },
  {
   "cell_type": "markdown",
   "id": "d3886ac1",
   "metadata": {},
   "source": [
    "### 5. How do you write a string of newlines if you don't want to use the n character?\n",
    "\n",
    "An\n",
    "\n",
    "in print function there are a parameters called end this we will put any thing that you want to finish the line \n",
    "\n",
    "its defult to end=\"\\n\" so if you print the string in two print function then it will print in two line but if you \n",
    "\n",
    "print a string in one print function then it will not print it in two line "
   ]
  },
  {
   "cell_type": "code",
   "execution_count": 12,
   "id": "d83a38b4",
   "metadata": {},
   "outputs": [
    {
     "name": "stdout",
     "output_type": "stream",
     "text": [
      "my name is abdulkream \n"
     ]
    }
   ],
   "source": [
    "print(\"my name is abdulkream \")"
   ]
  },
  {
   "cell_type": "code",
   "execution_count": 13,
   "id": "fe42e524",
   "metadata": {},
   "outputs": [
    {
     "name": "stdout",
     "output_type": "stream",
     "text": [
      "my name is \n",
      "abdulkream \n"
     ]
    }
   ],
   "source": [
    "print(\"my name is \")\n",
    "print(\"abdulkream \")"
   ]
  },
  {
   "cell_type": "markdown",
   "id": "4df4c00f",
   "metadata": {},
   "source": [
    "### 6. What are the values of the given expressions?\n",
    "\n",
    "1 - \"Hello, world!\"[1]\n",
    "\n",
    "2 - \"Hello, world!\"[0:5]\n",
    "\n",
    "3 - \"Hello, world!\"[:5]\n",
    "\n",
    "4 - \"Hello, world!\"[3:]\n",
    "\n",
    "An\n",
    "\n",
    "1 - e\n",
    "\n",
    "2 - Hello\n",
    "\n",
    "3 - Hello\n",
    "\n",
    "4 - lo, world!\n",
    "\n"
   ]
  },
  {
   "cell_type": "markdown",
   "id": "92ccc1d6",
   "metadata": {},
   "source": [
    "### 7. What are the values of the following expressions?\n",
    "\n",
    "1 - \"Hello\".upper()\n",
    "\n",
    "2 - \"Hello\".upper().isupper()\n",
    "\n",
    "3 - \"Hello\".upper().lower()\n",
    "\n",
    "An\n",
    "\n",
    "1 - \"HELLO\"\n",
    "\n",
    "2 - True \n",
    "\n",
    "3- \"hello\""
   ]
  },
  {
   "cell_type": "markdown",
   "id": "33682f95",
   "metadata": {},
   "source": [
    "### 8. What are the values of the following expressions?\n",
    "\n",
    "1 - \"Remember, remember, the fifth of July.\".split()\n",
    "\n",
    "2 - \"-\".join(\"There can only one.\".split())\n",
    "\n",
    "An \n",
    "\n",
    "1 - ['Remember,', 'remember,', 'the', 'fifth', 'of', 'July.'] ---> it will split each word by the space \n",
    "\n",
    "2 - 'There-can-only-one.' first it will ---> sapreate each word by space and make it in list then we will join each word by \"-\" operater "
   ]
  },
  {
   "cell_type": "markdown",
   "id": "bf56a248",
   "metadata": {},
   "source": [
    "### 9. What are the methods for right-justifying, left-justifying, and centering a string?\n",
    "\n",
    "An\n",
    "\n",
    "1 - left-justifying \n",
    "\n",
    "a = \"hi my name is abdulkream \"\n",
    "\n",
    "print(a.rjust(50)) the number is the width of string to expand it.\n",
    "\n",
    "------------\n",
    "\n",
    "2 - left-justifying \n",
    "\n",
    "a = \"hi my name is abdulkream \"\n",
    "\n",
    "print(a.ljust(50)) the number is the width of string to expand it.\n",
    "\n",
    "---- \n",
    "3 - centering \n",
    "\n",
    "a = \"hi my name is abdulkream \"\n",
    "\n",
    "print(a.center(50)) ---> the number is the width of string to expand it."
   ]
  },
  {
   "cell_type": "markdown",
   "id": "e59b962f",
   "metadata": {},
   "source": [
    "### 10. What is the best way to remove whitespace characters from the start or end?\n",
    "\n",
    "An\n",
    "\n",
    "str.strip() function will remove a space from the start and the end \n",
    "\n",
    "but str.lstrip() function will remove a space from the start \n",
    "\n",
    "but str.rstrip() function will remove a space from the end "
   ]
  },
  {
   "cell_type": "code",
   "execution_count": 34,
   "id": "373c262b",
   "metadata": {},
   "outputs": [
    {
     "name": "stdout",
     "output_type": "stream",
     "text": [
      "jjdjjdjjdj jjjjdjjd\n"
     ]
    }
   ],
   "source": [
    "a = \"       jjdjjdjjdj jjjjdjjd      \"\n",
    "print(a.strip())"
   ]
  }
 ],
 "metadata": {
  "kernelspec": {
   "display_name": "Python 3",
   "language": "python",
   "name": "python3"
  },
  "language_info": {
   "codemirror_mode": {
    "name": "ipython",
    "version": 3
   },
   "file_extension": ".py",
   "mimetype": "text/x-python",
   "name": "python",
   "nbconvert_exporter": "python",
   "pygments_lexer": "ipython3",
   "version": "3.8.8"
  },
  "varInspector": {
   "cols": {
    "lenName": 16,
    "lenType": 16,
    "lenVar": 40
   },
   "kernels_config": {
    "python": {
     "delete_cmd_postfix": "",
     "delete_cmd_prefix": "del ",
     "library": "var_list.py",
     "varRefreshCmd": "print(var_dic_list())"
    },
    "r": {
     "delete_cmd_postfix": ") ",
     "delete_cmd_prefix": "rm(",
     "library": "var_list.r",
     "varRefreshCmd": "cat(var_dic_list()) "
    }
   },
   "types_to_exclude": [
    "module",
    "function",
    "builtin_function_or_method",
    "instance",
    "_Feature"
   ],
   "window_display": false
  }
 },
 "nbformat": 4,
 "nbformat_minor": 5
}
