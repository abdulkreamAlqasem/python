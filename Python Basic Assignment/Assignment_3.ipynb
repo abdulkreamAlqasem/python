{
 "cells": [
  {
   "cell_type": "markdown",
   "id": "5cb12135",
   "metadata": {},
   "source": [
    "### 1. Why are functions advantageous to have in your programs?\n",
    "\n",
    " An\n",
    " \n",
    "is it useful to clean up you work and be beautiful  and you will not written code of the function again\n",
    "\n",
    "and when you use a function then it give advantages \n",
    "\n",
    "you can call it by the name of function and you write the function ones \n",
    "\n",
    "but if you not use function then you write the code of function on every place you will use in it the code of function\n",
    "\n",
    "that give a more more line of code and it look not beautiful\n",
    "\n"
   ]
  },
  {
   "cell_type": "markdown",
   "id": "2b41cbf7",
   "metadata": {},
   "source": [
    "### 2. When does the code in a function run: when its specified or when its called?\n",
    "\n",
    "An\n",
    "\n",
    "if you call the name of function then it will be run and if the fuction return something then you will get that \n",
    "something after you call that function \n"
   ]
  },
  {
   "cell_type": "markdown",
   "id": "89e2da6a",
   "metadata": {},
   "source": [
    "### 3. What statement creates a function?\n",
    "\n",
    "An\n",
    "\n",
    "def \n",
    "\n",
    "def addd(a,b):\n",
    "return a+b"
   ]
  },
  {
   "cell_type": "markdown",
   "id": "1dbbf8e6",
   "metadata": {},
   "source": [
    "### 4. What is the difference between a function and a function call?\n",
    "\n",
    "An\n",
    "\n",
    "a function is a place of code to get somthing \n",
    "\n",
    "but function call is the procese to use that fuction and get the result from that function"
   ]
  },
  {
   "cell_type": "markdown",
   "id": "c72ae095",
   "metadata": {},
   "source": [
    "### 5. How many global scopes are there in a Python program? How many local scopes?\n",
    "\n",
    "An\n",
    "\n",
    "in every program in python there is one global scopes it start from you start the page to write code\n",
    "\n",
    "\n",
    "but there are many local scopes you can create after : in each thing this is local scope all variable in local scope you can not use it outside that scope \n",
    "\n",
    "but the variable of global scope we can ues it in any place in the program\n",
    "\n"
   ]
  },
  {
   "cell_type": "markdown",
   "id": "80ab6cd5",
   "metadata": {},
   "source": [
    "### 6. What happens to variables in a local scope when the function call returns?\n",
    "\n",
    "An\n",
    "\n",
    "the variable of that fuction will be destroyed from memorey and if you use again the function then it will save and so on "
   ]
  },
  {
   "cell_type": "markdown",
   "id": "e3593c75",
   "metadata": {},
   "source": [
    "### 7. What is the concept of a return value? Is it possible to have a return value in an expression?\n",
    "\n",
    "An\n",
    "\n",
    "return value return after somthing happin and it can be return a expression and the result of that expression we will get \n",
    "\n",
    "and if there are no return value then the None value will be return "
   ]
  },
  {
   "cell_type": "markdown",
   "id": "2b9c274e",
   "metadata": {},
   "source": [
    "### 8. If a function does not have a return statement, what is the return value of a call to that function?\n",
    "\n",
    "An\n",
    "\n",
    "\n",
    "None value "
   ]
  },
  {
   "cell_type": "markdown",
   "id": "0bbd2ecb",
   "metadata": {},
   "source": [
    "### 9. How do you make a function variable refer to the global variable?\n",
    "\n",
    "An\n",
    "\n",
    "we will use (global key) then (name variable that outside the function)  inside the function to refer to that variable outside the function "
   ]
  },
  {
   "cell_type": "markdown",
   "id": "649ccf94",
   "metadata": {},
   "source": [
    "### 10. What is the data type of None?\n",
    "\n",
    "An\n",
    "\n",
    "NoneType object"
   ]
  },
  {
   "cell_type": "markdown",
   "id": "c285ad83",
   "metadata": {},
   "source": [
    "### 11. What does the sentence import are all your pets namederic do?\n",
    "\n",
    "An\n",
    "\n",
    "i dont undersatnd the qus but i write my ans\n",
    "\n",
    "when we use a import key then we bring a module in our class to use it and get some thing uesful \n",
    "\n",
    "for example \n",
    "\n",
    "Import math \n",
    "\n",
    "then we can git some useful function like math.add(3,4)\n"
   ]
  },
  {
   "cell_type": "markdown",
   "id": "e43abed8",
   "metadata": {},
   "source": [
    "### 12. If you had a bacon() feature in a spam module, what would you call it after importing spam?\n",
    "\n",
    "An\n",
    "\n",
    "import spam\n",
    "\n",
    "spam.bacon()"
   ]
  },
  {
   "cell_type": "markdown",
   "id": "3552bac6",
   "metadata": {},
   "source": [
    "### 13. What can you do to save a programme from crashing if it encounters an error?\n",
    "\n",
    "An\n",
    "\n",
    "if we think maype some input give a crash error then we will use try and except concept  \n",
    "\n",
    "x = 0\n",
    "\n",
    "try:\n",
    "\n",
    "  print(3/x)\n",
    "  \n",
    "except:\n",
    "\n",
    "  print(\"An exception occurred divison by zero\")\n"
   ]
  },
  {
   "cell_type": "markdown",
   "id": "03a03a3d",
   "metadata": {},
   "source": [
    "### 14. What is the purpose of the try clause? What is the purpose of the except clause?\n",
    "\n",
    "An\n",
    "\n",
    "the try clause is to test the code that you think it give error \n",
    "\n",
    "and the except clause it place that you can handle the massage of error that occurred and do some thing to handle that error "
   ]
  }
 ],
 "metadata": {
  "kernelspec": {
   "display_name": "Python 3",
   "language": "python",
   "name": "python3"
  },
  "language_info": {
   "codemirror_mode": {
    "name": "ipython",
    "version": 3
   },
   "file_extension": ".py",
   "mimetype": "text/x-python",
   "name": "python",
   "nbconvert_exporter": "python",
   "pygments_lexer": "ipython3",
   "version": "3.8.8"
  },
  "varInspector": {
   "cols": {
    "lenName": 16,
    "lenType": 16,
    "lenVar": 40
   },
   "kernels_config": {
    "python": {
     "delete_cmd_postfix": "",
     "delete_cmd_prefix": "del ",
     "library": "var_list.py",
     "varRefreshCmd": "print(var_dic_list())"
    },
    "r": {
     "delete_cmd_postfix": ") ",
     "delete_cmd_prefix": "rm(",
     "library": "var_list.r",
     "varRefreshCmd": "cat(var_dic_list()) "
    }
   },
   "types_to_exclude": [
    "module",
    "function",
    "builtin_function_or_method",
    "instance",
    "_Feature"
   ],
   "window_display": false
  }
 },
 "nbformat": 4,
 "nbformat_minor": 5
}
