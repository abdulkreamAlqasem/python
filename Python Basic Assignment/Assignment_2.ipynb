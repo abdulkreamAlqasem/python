{
 "cells": [
  {
   "cell_type": "markdown",
   "id": "3400fb33",
   "metadata": {},
   "source": [
    "### 1.What are the two values of the Boolean data type? How do you write them?\n",
    "\n",
    "An\n",
    "\n",
    "1- True and in number it can be 1\n",
    "\n",
    "2- False and in number it can be 0"
   ]
  },
  {
   "cell_type": "markdown",
   "id": "385668b4",
   "metadata": {},
   "source": [
    "### 2. What are the three different types of Boolean operators?\n",
    "\n",
    "An\n",
    "\n",
    "1- or (||)\n",
    "\n",
    "2- And (&&)\n",
    "\n",
    "3- !a --> complement of a \n"
   ]
  },
  {
   "cell_type": "markdown",
   "id": "6d8174b9",
   "metadata": {},
   "source": [
    "### 3. Make a list of each Boolean operator&#39;s truth tables (i.e. every possible combination of Booleanvalues for the operator and what it evaluate ).\n",
    "\n",
    "\n",
    "An\n",
    "\n",
    "1- or \n",
    "\n",
    "A     B             A or B \n",
    "\n",
    "1     1               1\n",
    "\n",
    "1     0               1 \n",
    "\n",
    "0     1               1 \n",
    "\n",
    "0     0               0\n",
    "\n",
    "2 - And \n",
    "\n",
    "A     B     A and B \n",
    "\n",
    "1     1       1\n",
    "\n",
    "1     0       0 \n",
    "\n",
    "0     1       0 \n",
    "\n",
    "0     0       0\n",
    "\n",
    "3 - ! \n",
    "\n",
    "A     !A     \n",
    "\n",
    "1     0       \n",
    "\n",
    "1     0        \n",
    "\n",
    "0     1        \n",
    "\n",
    "0     1       \n",
    "\n"
   ]
  },
  {
   "cell_type": "markdown",
   "id": "03dc4b10",
   "metadata": {},
   "source": [
    "### 4. What are the values of the following expressions?\n",
    "\n",
    "(5 > 4) and (3 == 5)\n",
    "\n",
    "not (5 > 4)\n",
    "\n",
    "(5 > 4) or (3 == 5)\n",
    "\n",
    "not ((5 > 4) or (3 == 5))\n",
    "\n",
    "(True and True) and (True == False)\n",
    "\n",
    "(not False) or (not True)\n",
    "\n",
    "\n",
    "\n",
    "An\n",
    "\n",
    "(5 > 4) and (3 == 5) ----> 0 (False)\n",
    "\n",
    "not (5 > 4) ----> 0 (False)\n",
    "\n",
    "(5 > 4) or (3 == 5) ----> 1 (True)\n",
    "\n",
    "not ((5 > 4) or (3 == 5)) ----> 0 (False)\n",
    "\n",
    "(True and True) and (True == False) ----> 0 (False)\n",
    "\n",
    "\n",
    "(not False) or (not True) ----> 1 (True)"
   ]
  },
  {
   "cell_type": "markdown",
   "id": "a3585cc5",
   "metadata": {},
   "source": [
    "### 5. What are the six comparison operators?\n",
    "\n",
    "An\n",
    "\n",
    "1- > \n",
    "\n",
    "2- >=\n",
    "\n",
    "3- <\n",
    "\n",
    "4- <=\n",
    "\n",
    "5- ==\n",
    "\n",
    "6- != "
   ]
  },
  {
   "cell_type": "markdown",
   "id": "2b0be293",
   "metadata": {},
   "source": [
    "### 6. How do you tell the difference between the equal to and assignment operators?Describe a condition and when you would use one.\n",
    "\n",
    "An\n",
    "\n",
    "when you use == or != then you use equal to operator for example \n",
    "\n",
    "a == b \n",
    "\n",
    "or \n",
    "\n",
    "a != b\n",
    "\n",
    "equal to operator used if you want to compere two thing \n",
    "\n",
    "\n",
    "-------------------\n",
    "\n",
    "\n",
    "and when you use = then you use assignment operator for example \n",
    "\n",
    "a = 10 \n",
    "\n",
    "or  \n",
    "\n",
    "b = a + 10 \n",
    "\n",
    "\n",
    "assignment operator used if you want to assign value to a variable  \n"
   ]
  },
  {
   "cell_type": "markdown",
   "id": "a7ccccda",
   "metadata": {},
   "source": [
    "### 7. Identify the three blocks in this code:\n",
    "\n",
    "spam = 0\n",
    "\n",
    "if spam == 10:\n",
    "    \n",
    "print(\"eggs\")\n",
    "\n",
    "if spam &gt; 5:\n",
    "    \n",
    "print(\"bacon\")\n",
    "\n",
    "else:\n",
    "    \n",
    "print(\"ham\")\n",
    "\n",
    "print(\"spam\")\n",
    "\n",
    "print(\"spam\")\n",
    "\n",
    "\n",
    "An\n",
    "\n",
    "first if the spam == 10 then we will print eggs \n",
    "\n",
    "then we go to second if if spam more than 5 then we will print bacon \n",
    "\n",
    "first and second if all is False then we not print \n",
    "\n",
    "now we see if spam not more than 5 \n",
    "\n",
    "then we go to else condition and print all of it \n",
    "\n",
    "\n",
    "ham\n",
    "\n",
    "spam\n",
    "\n",
    "spam"
   ]
  },
  {
   "cell_type": "markdown",
   "id": "028e357f",
   "metadata": {},
   "source": [
    "### 8. Write code that prints Hello if 1 is stored in spam, prints Howdy if 2 is stored in spam, and prints Greetings! if anything else is stored in spam.\n",
    "\n",
    "An\n",
    "\n",
    "below"
   ]
  },
  {
   "cell_type": "code",
   "execution_count": 8,
   "id": "0c0739b3",
   "metadata": {},
   "outputs": [
    {
     "name": "stdout",
     "output_type": "stream",
     "text": [
      "Greetings!\n"
     ]
    }
   ],
   "source": [
    "spam = 0\n",
    "\n",
    "if spam == 1:\n",
    "    print(\"Hello\")\n",
    "elif spam == 2:\n",
    "    print(\"Howdy\")\n",
    "else:\n",
    "    print(\"Greetings!\")"
   ]
  },
  {
   "cell_type": "markdown",
   "id": "c96d37f3",
   "metadata": {},
   "source": [
    "### 9.If your programme is stuck in an endless loop, what keys you’ll press?\n",
    "\n",
    "An\n",
    "\n",
    "break "
   ]
  },
  {
   "cell_type": "markdown",
   "id": "59925bca",
   "metadata": {},
   "source": [
    "### 10. How can you tell the difference between break and continue?\n",
    "\n",
    "\n",
    "An\n",
    "\n",
    "break is to git a way from the loop it stop the loop and get a way\n",
    "\n",
    "but continue is to jump back to the condition of the loop with out print anything after continue key"
   ]
  },
  {
   "cell_type": "markdown",
   "id": "343d1f9d",
   "metadata": {},
   "source": [
    "### 11. In a for loop, what is the difference between range(10), range(0, 10), and range(0, 10, 1)?\n",
    "\n",
    "\n",
    "An\n",
    "\n",
    "all are the same becouse range(start,end,stepsize)\n",
    "\n",
    "and if you put range(10) so the start will be 0 by defult and the stepsize will be defult 1 \n",
    "\n",
    "so all is the same"
   ]
  },
  {
   "cell_type": "markdown",
   "id": "94fbe6d2",
   "metadata": {},
   "source": [
    "### 12. Write a short program that prints the numbers 1 to 10 using a for loop. Then write an equivalent program that prints the numbers 1 to 10 using a while loop.\n",
    "\n",
    "An"
   ]
  },
  {
   "cell_type": "code",
   "execution_count": 13,
   "id": "a7620492",
   "metadata": {},
   "outputs": [
    {
     "name": "stdout",
     "output_type": "stream",
     "text": [
      "1\n",
      "2\n",
      "3\n",
      "4\n",
      "5\n",
      "6\n",
      "7\n",
      "8\n",
      "9\n",
      "10\n"
     ]
    }
   ],
   "source": [
    "for i in range(1,11):\n",
    "    print(i)"
   ]
  },
  {
   "cell_type": "code",
   "execution_count": 14,
   "id": "5e943576",
   "metadata": {},
   "outputs": [
    {
     "name": "stdout",
     "output_type": "stream",
     "text": [
      "1\n",
      "2\n",
      "3\n",
      "4\n",
      "5\n",
      "6\n",
      "7\n",
      "8\n",
      "9\n",
      "10\n"
     ]
    }
   ],
   "source": [
    "i = 1\n",
    "\n",
    "while(i<=10):\n",
    "    print(i)\n",
    "    i=i+1"
   ]
  },
  {
   "cell_type": "markdown",
   "id": "23946710",
   "metadata": {},
   "source": [
    "### 13. If you had a function named bacon() inside a module named spam, how would you call it after importing spam?\n",
    "\n",
    "An"
   ]
  }
 ],
 "metadata": {
  "kernelspec": {
   "display_name": "Python 3",
   "language": "python",
   "name": "python3"
  },
  "language_info": {
   "codemirror_mode": {
    "name": "ipython",
    "version": 3
   },
   "file_extension": ".py",
   "mimetype": "text/x-python",
   "name": "python",
   "nbconvert_exporter": "python",
   "pygments_lexer": "ipython3",
   "version": "3.8.8"
  },
  "varInspector": {
   "cols": {
    "lenName": 16,
    "lenType": 16,
    "lenVar": 40
   },
   "kernels_config": {
    "python": {
     "delete_cmd_postfix": "",
     "delete_cmd_prefix": "del ",
     "library": "var_list.py",
     "varRefreshCmd": "print(var_dic_list())"
    },
    "r": {
     "delete_cmd_postfix": ") ",
     "delete_cmd_prefix": "rm(",
     "library": "var_list.r",
     "varRefreshCmd": "cat(var_dic_list()) "
    }
   },
   "types_to_exclude": [
    "module",
    "function",
    "builtin_function_or_method",
    "instance",
    "_Feature"
   ],
   "window_display": false
  }
 },
 "nbformat": 4,
 "nbformat_minor": 5
}
