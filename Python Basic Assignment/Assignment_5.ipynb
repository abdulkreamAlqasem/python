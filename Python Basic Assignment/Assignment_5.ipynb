{
 "cells": [
  {
   "cell_type": "markdown",
   "id": "71197f64",
   "metadata": {},
   "source": [
    "### 1. What does an empty dictionary's code look like?\n",
    "\n",
    "An\n",
    "\n",
    "a = {}"
   ]
  },
  {
   "cell_type": "markdown",
   "id": "9fc4897f",
   "metadata": {},
   "source": [
    "### 2. What is the value of a dictionary value with the key \"foo\" and the value 42?\n",
    "\n",
    "An\n",
    "\n",
    "test = {\"foo\":42}\n"
   ]
  },
  {
   "cell_type": "code",
   "execution_count": 4,
   "id": "221f6929",
   "metadata": {},
   "outputs": [
    {
     "data": {
      "text/plain": [
       "42"
      ]
     },
     "execution_count": 4,
     "metadata": {},
     "output_type": "execute_result"
    }
   ],
   "source": [
    "test = {\"foo\":42}\n",
    "test[\"foo\"]"
   ]
  },
  {
   "cell_type": "markdown",
   "id": "250702ab",
   "metadata": {},
   "source": [
    "### 3. What is the most significant distinction between a dictionary and a list?\n",
    "\n",
    "An\n",
    "\n",
    "the dic has a key and there value ---> {key:value,..}\n",
    "\n",
    "but list has only item [item1,...]"
   ]
  },
  {
   "cell_type": "markdown",
   "id": "0cbf5769",
   "metadata": {},
   "source": [
    "### 4. What happens if you try to access spam[\"foo\"] if spam is {\"bar\": 100}?\n",
    "\n",
    "An\n",
    "\n",
    "it gives key error which means there are no key name of it is \"foo\"\n",
    "\n"
   ]
  },
  {
   "cell_type": "markdown",
   "id": "386374b5",
   "metadata": {},
   "source": [
    "### 5. If a dictionary is stored in spam, what is the difference between the expressions \"cat\" in spam and \"cat\" in spam.keys()?\n",
    "\n",
    "An\n",
    "\n",
    "if \"cat\" is present in spam as a key then it will display in the spam.keys() and it will display also in spam dict"
   ]
  },
  {
   "cell_type": "markdown",
   "id": "f0f88040",
   "metadata": {},
   "source": [
    "### 6. If a dictionary is stored in spam, what is the difference between the expressions \"cat\" in spam and \"cat\" in spam.values()?\n",
    "\n",
    "An\n",
    "\n",
    "\n",
    "if \"cat\" is present in spam as a value of some key then it will display in the spam.values() and it will display also in spam dict "
   ]
  },
  {
   "cell_type": "markdown",
   "id": "68223e4d",
   "metadata": {},
   "source": [
    "### 7. What is a shortcut for the following code?\n",
    "### if \"color\" not in spam:\n",
    "### spam[\"color\"] = \"black\"\n",
    "\n",
    "An\n",
    "\n",
    "\n",
    "\n",
    "if \"color\" not in spam.keys() then spam[\"color\"]=\"black\""
   ]
  },
  {
   "cell_type": "markdown",
   "id": "e3a8ac02",
   "metadata": {},
   "source": [
    "### 8. How do you \"pretty print\" dictionary values using which module and function?\n",
    "\n",
    "\n",
    "An\n",
    "\n",
    "we have three ways \n",
    "\n",
    "1- by use pprint module then pprint.pprint() function \n",
    "\n",
    "2- by use json module then json.dumps() function\n",
    "\n",
    "3- by use yaml module then yaml.dump() function \n",
    "\n"
   ]
  }
 ],
 "metadata": {
  "kernelspec": {
   "display_name": "Python 3",
   "language": "python",
   "name": "python3"
  },
  "language_info": {
   "codemirror_mode": {
    "name": "ipython",
    "version": 3
   },
   "file_extension": ".py",
   "mimetype": "text/x-python",
   "name": "python",
   "nbconvert_exporter": "python",
   "pygments_lexer": "ipython3",
   "version": "3.8.8"
  },
  "varInspector": {
   "cols": {
    "lenName": 16,
    "lenType": 16,
    "lenVar": 40
   },
   "kernels_config": {
    "python": {
     "delete_cmd_postfix": "",
     "delete_cmd_prefix": "del ",
     "library": "var_list.py",
     "varRefreshCmd": "print(var_dic_list())"
    },
    "r": {
     "delete_cmd_postfix": ") ",
     "delete_cmd_prefix": "rm(",
     "library": "var_list.r",
     "varRefreshCmd": "cat(var_dic_list()) "
    }
   },
   "types_to_exclude": [
    "module",
    "function",
    "builtin_function_or_method",
    "instance",
    "_Feature"
   ],
   "window_display": false
  }
 },
 "nbformat": 4,
 "nbformat_minor": 5
}
