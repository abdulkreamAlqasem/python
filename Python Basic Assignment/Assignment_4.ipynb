{
 "cells": [
  {
   "cell_type": "markdown",
   "id": "e627f86f",
   "metadata": {},
   "source": [
    "### 1. What exactly is [ ]?\n",
    "\n",
    "An \n",
    "\n",
    "\n",
    "is a List are used to store multiple items in a single variable \n",
    "\n",
    "any type can be in list \n",
    "\n",
    "we can get the item by index of item list begin with 0 index so \n",
    "\n",
    "if we have s=[2,4,5,7] then s[0] will be 2 \n",
    "\n",
    "list are ordered and changeable \n",
    "\n",
    "and it allows duplicate items.\n"
   ]
  },
  {
   "cell_type": "markdown",
   "id": "3e188329",
   "metadata": {},
   "source": [
    "### 2. In a list of values stored in a variable called spam, how would you assign the value \"hello\" as the third value? (Assume [2, 4, 6, 8, 10] are in spam.)\n",
    "\n",
    "###Let&#39;s pretend the spam includes the list [\"a\",\"b\",\"c\",\"d\"] for the next three queries.\n",
    "\n",
    "\n",
    "An\n",
    "\n",
    "if the list spam are \n",
    "\n",
    "spam = [2, 4, 6, 8, 10,\"a\",\"b\",\"c\",\"d\"]\n",
    "\n",
    "then \n",
    "\n",
    "spam[2] = \"hello\"\n",
    "\n",
    "then \n",
    "\n",
    "spam are [2, 4,\"hello\", 8, 10,\"a\",\"b\",\"c\",\"d\"]\n"
   ]
  },
  {
   "cell_type": "markdown",
   "id": "a85c1efb",
   "metadata": {},
   "source": [
    "### 3. What is the value of spam[int(int(&#39;3&#39; * 2) / 11)]?\n",
    "\n",
    "spam = [\"a\",\"b\",\"c\",\"d\"]\n",
    "\n",
    "An\n",
    "\n",
    "\n",
    "spam[3] are \"d\"\n",
    "\n"
   ]
  },
  {
   "cell_type": "markdown",
   "id": "0c24bebb",
   "metadata": {},
   "source": [
    "### 4. What is the value of spam[-1]?\n",
    "\n",
    "spam = [\"a\",\"b\",\"c\",\"d\"]\n",
    "\n",
    "\n",
    "\n",
    "An\n",
    "\n",
    "spam[-1] are \"d\""
   ]
  },
  {
   "cell_type": "markdown",
   "id": "10f2ab54",
   "metadata": {},
   "source": [
    "### 5. What is the value of spam[:2]?\n",
    "\n",
    "Lets pretend bacon has the list [3.14,\"cat\",11,\"cat\",True] for the next three questions.\n",
    "\n",
    "An\n",
    "\n",
    "spam[:2] are ['a', 'b']"
   ]
  },
  {
   "cell_type": "markdown",
   "id": "5b8b3151",
   "metadata": {},
   "source": [
    "### 6. What is the value of bacon.index(\"cat\")?\n",
    "\n",
    "An\n",
    "\n",
    "bacon.index(\"cat\") are 1 "
   ]
  },
  {
   "cell_type": "markdown",
   "id": "2f855b7f",
   "metadata": {},
   "source": [
    "### 7. How does bacon.append(99) change the look of the list value in bacon?\n",
    "\n",
    "An\n",
    "\n",
    "its add 99 in the last place in the list \n",
    "\n",
    "bacon ------> [3.14, 'cat', 11, 'cat', True, 99]"
   ]
  },
  {
   "cell_type": "markdown",
   "id": "994d6bd9",
   "metadata": {},
   "source": [
    "### 8. How does bacon.remove(\"cat\") change the look of the list in bacon?\n",
    "\n",
    "An\n",
    "\n",
    "its remove the first place that \"cat\" present in it \n",
    "\n",
    "bacon ------> [3.14, 11, 'cat', True]"
   ]
  },
  {
   "cell_type": "markdown",
   "id": "57d53a7e",
   "metadata": {},
   "source": [
    "### 9. What are the list concatenation and list replication operators?\n",
    "\n",
    "\n",
    "An\n",
    "\n",
    "list concatenation when we have \n",
    "\n",
    "a= [1,2,3]\n",
    "b= [4,5,6]\n",
    "\n",
    "then \n",
    "c=a+b \n",
    "\n",
    "will be [1,2,3,4,5,6]\n",
    "\n",
    "\n",
    "list replication when we have \n",
    "\n",
    "a= [1,2,3]\n",
    "\n",
    "\n",
    "then \n",
    "b=a * 2 \n",
    "\n",
    "will be [1,2,3,1,2,3]"
   ]
  },
  {
   "cell_type": "markdown",
   "id": "bca79246",
   "metadata": {},
   "source": [
    "### 10. What is difference between the list methods append() and insert()?\n",
    "\n",
    "An\n",
    "\n",
    "append method is to add element but it add it in the last place of the list \n",
    "\n",
    "\n",
    "but \n",
    "\n",
    "\n",
    "insert method is to add sepecifc element in sepecific index you want "
   ]
  },
  {
   "cell_type": "markdown",
   "id": "27780de0",
   "metadata": {},
   "source": [
    "### 11. What are the two methods for removing items from a list?\n",
    "\n",
    "\n",
    "An\n",
    "\n",
    "\n",
    "1- remove() method \n",
    "\n",
    "2- pop() method"
   ]
  },
  {
   "cell_type": "markdown",
   "id": "f6370ede",
   "metadata": {},
   "source": [
    "### 12. Describe how list values and string values are identical.\n",
    "\n",
    "An\n",
    "\n",
    "the string have a index for it and the list have also the index for it \n",
    "\n",
    "so you can use the index to select the char in the string or to select item in the list \n",
    "\n",
    "all are sequences   \n",
    "\n",
    "there are two diffrent between them : \n",
    "\n",
    "1- list are mutable but string are immutable\n",
    "\n",
    "2- list can have any datatype but string only char of type string\n"
   ]
  },
  {
   "cell_type": "markdown",
   "id": "4c1115c9",
   "metadata": {},
   "source": [
    "### 13. Whats the difference between tuples and lists?\n",
    "\n",
    "An\n",
    "\n",
    "list are ordered and changeable  and it allows duplicate items.\n",
    "\n",
    "but \n",
    "\n",
    "tuples are ordered and unchangeable and it allows duplicate items."
   ]
  },
  {
   "cell_type": "markdown",
   "id": "179a08ef",
   "metadata": {},
   "source": [
    "### 14. How do you type a tuple value that only contains the integer 42?\n",
    "\n",
    "\n",
    "An\n",
    "\n",
    "a = (42,)"
   ]
  },
  {
   "cell_type": "markdown",
   "id": "ac0759b4",
   "metadata": {},
   "source": [
    "### 15. How do you get a list values tuple form? How do you get a tuple values list form?\n",
    "\n",
    "An\n",
    "\n",
    "list values tuple form?\n",
    "\n",
    "a= [1,2,3,45,6,7,8]\n",
    "\n",
    "tuple(a)\n",
    "\n",
    "\n",
    "tuple values list form?\n",
    "\n",
    "a= (1,2,3,45,6,7,8)\n",
    "\n",
    "list(a)"
   ]
  },
  {
   "cell_type": "markdown",
   "id": "4932d0a7",
   "metadata": {},
   "source": [
    "### 16. Variables that &quot;contain&quot; list values are not necessarily lists themselves. Instead, what do they contain?\n",
    "\n",
    "An\n",
    "\n",
    "i dont understand this question\n"
   ]
  },
  {
   "cell_type": "markdown",
   "id": "89f2d4d0",
   "metadata": {},
   "source": [
    "### 17. How do you distinguish between copy.copy() and copy.deepcopy()?\n",
    "\n",
    "\n",
    "\n",
    "An\n",
    "\n",
    "copy.copy() is copy the list but assign it in defferent location and if you change in the copy list the origin list can not change \n",
    "\n",
    "but if the origin list has nested list and then we copy to another list and we change list inside the copy list  then the origin list will be change \n",
    "\n",
    "if i add new list in the origin list and then see the copy list \n",
    "\n",
    "that copy list can not contain the new list that was add it in origin one \n",
    "\n",
    "\n",
    "\n",
    "\n",
    "in copy.deepcopy() if i change item in the copy list the origin list can not change \n",
    "\n",
    "but if the origin list have nested list and we ues copy.deepcopy() then if we change the item in nested list of the \n",
    "\n",
    "copy list then the origin list can not change this is the diffrence between copy.copy() and copy.deepcopy()?"
   ]
  }
 ],
 "metadata": {
  "kernelspec": {
   "display_name": "Python 3",
   "language": "python",
   "name": "python3"
  },
  "language_info": {
   "codemirror_mode": {
    "name": "ipython",
    "version": 3
   },
   "file_extension": ".py",
   "mimetype": "text/x-python",
   "name": "python",
   "nbconvert_exporter": "python",
   "pygments_lexer": "ipython3",
   "version": "3.8.8"
  },
  "varInspector": {
   "cols": {
    "lenName": 16,
    "lenType": 16,
    "lenVar": 40
   },
   "kernels_config": {
    "python": {
     "delete_cmd_postfix": "",
     "delete_cmd_prefix": "del ",
     "library": "var_list.py",
     "varRefreshCmd": "print(var_dic_list())"
    },
    "r": {
     "delete_cmd_postfix": ") ",
     "delete_cmd_prefix": "rm(",
     "library": "var_list.r",
     "varRefreshCmd": "cat(var_dic_list()) "
    }
   },
   "types_to_exclude": [
    "module",
    "function",
    "builtin_function_or_method",
    "instance",
    "_Feature"
   ],
   "window_display": false
  }
 },
 "nbformat": 4,
 "nbformat_minor": 5
}
