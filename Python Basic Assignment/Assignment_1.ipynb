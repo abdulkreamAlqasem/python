{
 "cells": [
  {
   "cell_type": "markdown",
   "id": "7cae0e12",
   "metadata": {},
   "source": [
    "### In the below elements which of them are values or an expression? \n",
    "eg:- values can be integer or string and expressions will be mathematical operators.\n",
    "    \n",
    "*\n",
    "\n",
    "\"hello\"\n",
    "\n",
    "-87.8\n",
    "\n",
    "-\n",
    "\n",
    "/\n",
    "\n",
    "+\n",
    "\n",
    "6\n",
    "\n",
    "### An\n",
    "\n",
    "mathematical operators : * , - , / , +\n",
    "\n",
    "string: \"hello\"\n",
    "\n",
    "integer: -87.8 , 6\n"
   ]
  },
  {
   "cell_type": "markdown",
   "id": "91cda97a",
   "metadata": {},
   "source": [
    "### 2. What is the difference between string and variable?\n",
    "\n",
    "An\n",
    "\n",
    "variable can be string or integer or floot, its place can contian any type of datatype , you can assign any valid name to the varible and assign his value for example a = 20 its variable a and the value of it is 20 \n",
    "\n",
    "String is the type of datatype it contains only any number of char between double quotation or single quotation for example 'a' or \"hello\" or \"2345_\" all are of type string \n",
    "\n"
   ]
  },
  {
   "cell_type": "markdown",
   "id": "ef7f1111",
   "metadata": {},
   "source": [
    "### 3. Describe three different data types.\n",
    "\n",
    "\n",
    "An\n",
    "\n",
    "1- string : contains only any number of char between double quotation or single quotation\n",
    "\n",
    "2- integer : numeric value that has no number after dot for example 23 but not 23.5 \n",
    "\n",
    "3- double or float : numeric value that has number after dot for example 23.5 but not 23 "
   ]
  },
  {
   "cell_type": "markdown",
   "id": "5060249f",
   "metadata": {},
   "source": [
    "### 4. What is an expression made up of? What do all expressions do?\n",
    "\n",
    "\n",
    "An\n",
    "\n",
    "the expression its have maybe two side to compere two things or to complement thing to achive something\n",
    "i mean by side is the thing can be compere with other or to complement with himself to achive something \n",
    "for exampel \n",
    "\n",
    "a == b \n",
    "\n",
    "or \n",
    "\n",
    "a!=b \n",
    "\n"
   ]
  },
  {
   "cell_type": "markdown",
   "id": "02b0cdce",
   "metadata": {},
   "source": [
    "### 5. This assignment statements, like spam = 10. What is the difference between an expression and a statement?\n",
    "\n",
    "\n",
    "An\n",
    "\n",
    "assignment statements is to keep value in a variable and save his address in a memory \n",
    "\n",
    "but expression is to achive something for example if you wznt to check the age is valid then print his age so you will use (age > 0) && age (<= 130 )\n",
    "\n",
    "print age \n"
   ]
  },
  {
   "cell_type": "markdown",
   "id": "d15e2258",
   "metadata": {},
   "source": [
    "### 6. After running the following code, what does the variable bacon contain?\n",
    "bacon = 22\n",
    "\n",
    "bacon + 1\n",
    "\n",
    "An\n",
    "\n",
    "the awnser of bacon + 1 is 23 \n",
    "\n",
    "but bacon will be 22 because the expression is not assign to a varible bacon \n",
    "\n",
    "if it assign \n",
    "bacon = 22\n",
    "bacon = bacon + 1 \n",
    "then bacon = 23 "
   ]
  },
  {
   "cell_type": "markdown",
   "id": "c944e5ff",
   "metadata": {},
   "source": [
    "### 7. What should the values of the following two terms be?\n",
    "\"spam\" + \"spamspam\"\n",
    "\n",
    "\"spam\" * 3\n",
    "\n",
    "An\n",
    "\n",
    "same becuse \n",
    "\n",
    "\"spam\" + \"spamspam\" ==> \"spamspamspam\"\n",
    " \n",
    " \n",
    "\"spam\" * 3 ==> \"spamspamspam\""
   ]
  },
  {
   "cell_type": "markdown",
   "id": "e59a5915",
   "metadata": {},
   "source": [
    "### 8. Why is eggs a valid variable name while 100 is invalid?\n",
    "\n",
    "An\n",
    "\n",
    "valid name must not contain digit in the first and it must not contain any sampol in the first exept $ and _ char \n",
    "and it can begin with letters upper or lower \n",
    "\n",
    "so eggs is valid becuse it not begin with digit and it begin with letters \n",
    "\n",
    "100 is invalid becuse it begin with digit "
   ]
  },
  {
   "cell_type": "markdown",
   "id": "18f77601",
   "metadata": {},
   "source": [
    "### 9. What three functions can be used to get the integer, floating-point number, or string version of a value?\n",
    "\n",
    "An\n",
    "\n",
    "1- int()\n",
    "2- float()\n",
    "3- str()"
   ]
  },
  {
   "cell_type": "markdown",
   "id": "a807270e",
   "metadata": {},
   "source": [
    "### 10. Why does this expression cause an error? How can you fix it?\n",
    "\n",
    "\"I have eaten\"  + 99 +  \"burritos.\"\n",
    "\n",
    "An\n",
    "\n",
    "the number 99 must be string to concatenate with the string so we use str(99) or \"99\" to fix it "
   ]
  },
  {
   "cell_type": "code",
   "execution_count": null,
   "id": "304589f7",
   "metadata": {},
   "outputs": [],
   "source": []
  },
  {
   "cell_type": "code",
   "execution_count": null,
   "id": "4c033bcd",
   "metadata": {},
   "outputs": [],
   "source": []
  }
 ],
 "metadata": {
  "kernelspec": {
   "display_name": "Python 3",
   "language": "python",
   "name": "python3"
  },
  "language_info": {
   "codemirror_mode": {
    "name": "ipython",
    "version": 3
   },
   "file_extension": ".py",
   "mimetype": "text/x-python",
   "name": "python",
   "nbconvert_exporter": "python",
   "pygments_lexer": "ipython3",
   "version": "3.8.8"
  },
  "varInspector": {
   "cols": {
    "lenName": 16,
    "lenType": 16,
    "lenVar": 40
   },
   "kernels_config": {
    "python": {
     "delete_cmd_postfix": "",
     "delete_cmd_prefix": "del ",
     "library": "var_list.py",
     "varRefreshCmd": "print(var_dic_list())"
    },
    "r": {
     "delete_cmd_postfix": ") ",
     "delete_cmd_prefix": "rm(",
     "library": "var_list.r",
     "varRefreshCmd": "cat(var_dic_list()) "
    }
   },
   "types_to_exclude": [
    "module",
    "function",
    "builtin_function_or_method",
    "instance",
    "_Feature"
   ],
   "window_display": false
  }
 },
 "nbformat": 4,
 "nbformat_minor": 5
}
